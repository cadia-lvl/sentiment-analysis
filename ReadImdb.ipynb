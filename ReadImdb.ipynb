{
 "cells": [
  {
   "cell_type": "code",
   "execution_count": 1,
   "id": "72d68eb2-f672-4e64-905f-0b5e3e40d467",
   "metadata": {},
   "outputs": [
    {
     "name": "stdout",
     "output_type": "stream",
     "text": [
      "One of the other reviewers has mentioned that after watching just 1 Oz episode you'll be hooked. They are right, as this is exactly what happened with me.The first thing that struck me about Oz was its brutality and unflinching scenes of violence, which set in right from the word GO. Trust me, this is not a show for the faint hearted or timid. This show pulls no punches with regards to drugs, sex or violence. Its is hardcore, in the classic use of the word.It is called OZ as that is the nickname given to the Oswald Maximum Security State Penitentary. It focuses mainly on Emerald City, an experimental section of the prison where all the cells have glass fronts and face inwards, so privacy is not high on the agenda. Em City is home to many..Aryans, Muslims, gangstas, Latinos, Christians, Italians, Irish and more....so scuffles, death stares, dodgy dealings and shady agreements are never far away.I would say the main appeal of the show is due to the fact that it goes where other shows wouldn't dare. Forget pretty pictures painted for mainstream audiences, forget charm, forget romance...OZ doesn't mess around. The first episode I ever saw struck me as so nasty it was surreal, I couldn't say I was ready for it, but as I watched more, I developed a taste for Oz, and got accustomed to the high levels of graphic violence. Not just violence, but injustice (crooked guards who'll be sold out for a nickel, inmates who'll kill on order and get away with it, well mannered, middle class inmates being turned into prison bitches due to their lack of street skills or prison experience) Watching Oz, you may become comfortable with what is uncomfortable viewing....thats if you can get in touch with your darker side.\n"
     ]
    }
   ],
   "source": [
    "import re\n",
    "import math\n",
    "import nltk\n",
    "import pandas as pd\n",
    "import numpy as np\n",
    "from reynir import Greynir\n",
    "from googletrans import Translator\n",
    "from sklearn.preprocessing import LabelEncoder\n",
    "from sklearn.model_selection import train_test_split\n",
    "from sklearn.metrics import classification_report\n",
    "from sklearn.metrics import accuracy_score\n",
    "from sklearn.feature_extraction.text import CountVectorizer\n",
    "from nltk.tokenize import RegexpTokenizer\n",
    "from nltk.corpus import stopwords\n",
    "from nltk import NaiveBayesClassifier\n",
    "from nltk import stem\n",
    "from nltk.stem import WordNetLemmatizer\n",
    "from collections import defaultdict\n",
    "\n",
    "t = Translator()\n",
    "g = Greynir()\n",
    "\n",
    "def google_translate(text):\n",
    "    text = text.replace(\"<br />\", \"\")\n",
    "    return t.translate(text, dest=\"is\").text\n",
    "\n",
    "data = pd.read_csv('IMDB-Dataset.csv')\n",
    "icelandic = google_translate(data['review'][0])\n",
    "\n",
    "print(data['review'][0].replace('<br />', ''))\n",
    "\n"
   ]
  },
  {
   "cell_type": "code",
   "execution_count": 4,
   "id": "62bb1d01-7073-4036-994b-f46024099136",
   "metadata": {},
   "outputs": [
    {
     "name": "stdout",
     "output_type": "stream",
     "text": [
      "Einn hinna gagnrýnenda hefur nefnt að eftir að hafa horft aðeins á 1 Oz þátt þá verðurðu hrifinn. Þe\n"
     ]
    }
   ],
   "source": [
    "\n",
    "\n",
    "print(icelandic[0:100])\n",
    "\n",
    "    "
   ]
  },
  {
   "cell_type": "code",
   "execution_count": 136,
   "id": "e6b4a354-1c64-4222-914b-4885b7f2ff46",
   "metadata": {},
   "outputs": [
    {
     "name": "stdout",
     "output_type": "stream",
     "text": [
      "['__class__', '__delattr__', '__dict__', '__dir__', '__doc__', '__eq__', '__format__', '__ge__', '__getattribute__', '__gt__', '__hash__', '__init__', '__init_subclass__', '__le__', '__len__', '__lt__', '__module__', '__ne__', '__new__', '__reduce__', '__reduce_ex__', '__repr__', '__setattr__', '__sizeof__', '__str__', '__subclasshook__', '__weakref__', '_err_index', '_error', '_job', '_len', '_num', '_s', '_score', '_simplified_tree', '_terminals', '_tree', 'categories', 'combinations', 'deep_tree', 'dump', 'dumps', 'err_index', 'error', 'flat_tree', 'ifd_tags', 'is_foreign', 'lemmas', 'lemmas_and_cats', 'lemmas_mm', 'load', 'loads', 'parse', 'score', 'terminal_nodes', 'terminals', 'text', 'tidy_text', 'tokens', 'tree']\n",
      "False\n",
      "None\n"
     ]
    }
   ],
   "source": [
    "txt = \"Einn hinna gagnrýnenda hefur nefnt að eftir að hafa horft aðeins á 1 Oz þátt þá verðurðu hrifinn.\"\n",
    "parse = g.parse_tokens(txt)\n",
    "\n",
    "print(dir(parse))\n",
    "print(parse.parse())\n",
    "print(parse.lemmas)"
   ]
  },
  {
   "cell_type": "code",
   "execution_count": 91,
   "id": "9a343834-2800-4733-8e81-aa3db3f611ce",
   "metadata": {},
   "outputs": [
    {
     "data": {
      "text/html": [
       "<div>\n",
       "<style scoped>\n",
       "    .dataframe tbody tr th:only-of-type {\n",
       "        vertical-align: middle;\n",
       "    }\n",
       "\n",
       "    .dataframe tbody tr th {\n",
       "        vertical-align: top;\n",
       "    }\n",
       "\n",
       "    .dataframe thead th {\n",
       "        text-align: right;\n",
       "    }\n",
       "</style>\n",
       "<table border=\"1\" class=\"dataframe\">\n",
       "  <thead>\n",
       "    <tr style=\"text-align: right;\">\n",
       "      <th></th>\n",
       "      <th>review</th>\n",
       "      <th>sentiment</th>\n",
       "    </tr>\n",
       "  </thead>\n",
       "  <tbody>\n",
       "    <tr>\n",
       "      <th>0</th>\n",
       "      <td>Hvattur af jákvæðum ummælum um þessa mynd hérn...</td>\n",
       "      <td>negative</td>\n",
       "    </tr>\n",
       "    <tr>\n",
       "      <th>1</th>\n",
       "      <td>Einn hinna gagnrýnenda hefur nefnt að eftir að...</td>\n",
       "      <td>positive</td>\n",
       "    </tr>\n",
       "    <tr>\n",
       "      <th>2</th>\n",
       "      <td>Yndisleg lítil framleiðsla. Kvikmyndatæknin er...</td>\n",
       "      <td>positive</td>\n",
       "    </tr>\n",
       "    <tr>\n",
       "      <th>3</th>\n",
       "      <td>\"Love in the Time of Money\" eftir Petter Matte...</td>\n",
       "      <td>positive</td>\n",
       "    </tr>\n",
       "    <tr>\n",
       "      <th>4</th>\n",
       "      <td>Í grundvallaratriðum er fjölskylda þar sem lít...</td>\n",
       "      <td>negative</td>\n",
       "    </tr>\n",
       "  </tbody>\n",
       "</table>\n",
       "</div>"
      ],
      "text/plain": [
       "                                              review sentiment\n",
       "0  Hvattur af jákvæðum ummælum um þessa mynd hérn...  negative\n",
       "1  Einn hinna gagnrýnenda hefur nefnt að eftir að...  positive\n",
       "2  Yndisleg lítil framleiðsla. Kvikmyndatæknin er...  positive\n",
       "3  \"Love in the Time of Money\" eftir Petter Matte...  positive\n",
       "4  Í grundvallaratriðum er fjölskylda þar sem lít...  negative"
      ]
     },
     "execution_count": 91,
     "metadata": {},
     "output_type": "execute_result"
    }
   ],
   "source": [
    "#data_ice_google = pd.read_csv(\"IMDB-Dataset-GoogleTranslate.csv\")\n",
    "\n",
    "\n",
    "\n",
    "\n",
    "\n"
   ]
  },
  {
   "cell_type": "code",
   "execution_count": 27,
   "id": "8f122cc0-e48d-48b4-a5f6-790cb31cfa4b",
   "metadata": {},
   "outputs": [],
   "source": [
    "\n",
    "dataset = pd.read_csv(\"IMDB-Dataset-GoogleTranslate.csv\")\n",
    "reviews = dataset['review'].values\n",
    "labels = dataset['sentiment'].values\n",
    "\n",
    "def get_sentiment(s):\n",
    "    return {'sentiment': s}\n",
    "\n",
    "featuresets = [(get_sentiment(sentiment), review) for review, sentiment in zip(reviews, labels)]\n",
    "train_set, test_set = featuresets[35000:], featuresets[35000:50000]\n",
    "classifier = NaiveBayesClassifier.train(train_set)\n",
    "print(nltk.classify.accuracy(classifier, test_set))\n",
    "#train_set\n",
    "#get_sentiment(\"positive\")\n",
    "#encoder = LabelEncoder()\n",
    "#encoded_labels = encoder.fit_transform(labels)\n",
    "#train_sentences, test_sentences, train_labels, test_labels = train_test_split(reviews, encoded_labels, stratify=encoded_labels)\n"
   ]
  },
  {
   "cell_type": "code",
   "execution_count": null,
   "id": "82433d4f-732c-4ab3-abaf-7a7be809766a",
   "metadata": {},
   "outputs": [],
   "source": []
  },
  {
   "cell_type": "code",
   "execution_count": 32,
   "id": "da7b4145-567c-4861-b8f4-3eb14411ca14",
   "metadata": {},
   "outputs": [],
   "source": [
    "vec = CountVectorizer(max_features=3000)\n",
    "X = vec.fit_transform(train_sentences)\n",
    "vocab = vec.get_feature_names_out()\n",
    "X = X.toarray()\n",
    "word_counts = {}\n",
    "for l in range(2):\n",
    "    word_counts[l] = defaultdict(lambda: 0)\n",
    "for i in range(X.shape[0]):\n",
    "    l = train_labels[i]\n",
    "    for j in range(len(vocab)):\n",
    "        word_counts[l][vocab[j]] += X[i][j]\n"
   ]
  },
  {
   "cell_type": "code",
   "execution_count": 33,
   "id": "db304387-fe13-4ae5-9775-0f3bb0d313c9",
   "metadata": {},
   "outputs": [],
   "source": [
    "def laplace_smoothing(n_label_items, vocab, word_counts, word, text_label):\n",
    "    a = word_counts[text_label][word] + 1\n",
    "    b = n_label_items[text_label] + len(vocab)\n",
    "    return math.log(a/b)\n",
    "\n",
    "def group_by_label(x, y, labels):\n",
    "    data = {}\n",
    "    for l in labels:\n",
    "        data[l] = x[np.where(y == l)]\n",
    "    return data\n",
    "    \n",
    "def fit(x, y, labels):\n",
    "    n_label_items = {}\n",
    "    log_label_priors = {}\n",
    "    n = len(x)\n",
    "    grouped_data = group_by_label(x, y, labels)\n",
    "    for l, data in grouped_data.items():\n",
    "        n_label_items[l] = len(data)\n",
    "        log_label_priors[l] = math.log(n_label_items[l] / n)\n",
    "    return n_label_items, log_label_priors\n",
    "\n"
   ]
  },
  {
   "cell_type": "code",
   "execution_count": 36,
   "id": "858b02b4-1e1c-4528-82bd-883d93e4efe4",
   "metadata": {},
   "outputs": [],
   "source": [
    "w_tokenizer = nltk.tokenize.WhitespaceTokenizer()\n",
    "def predict(n_label_items, vocab, word_counts, log_label_priors, labels, x):\n",
    "    result = []\n",
    "    for text in x:\n",
    "        label_scores = {l: log_label_priors[l] for l in labels}\n",
    "        words = set(w_tokenizer.tokenize(text))\n",
    "        for word in words:\n",
    "            if word not in vocab:\n",
    "                continue\n",
    "            for l in labels:\n",
    "                log_w_given_l = laplace_smoothing(n_label_items, vocab, word_counts, word, l)\n",
    "                label_scores[l] += log_w_given_l\n",
    "        result.append(max(label_scores, key=label_scores.get))\n",
    "    return result\n",
    "    "
   ]
  },
  {
   "cell_type": "code",
   "execution_count": 37,
   "id": "344ebd19-56cf-4081-a24e-b61318d36a9b",
   "metadata": {},
   "outputs": [
    {
     "name": "stdout",
     "output_type": "stream",
     "text": [
      "Accuracy:  0.7892100509114797\n"
     ]
    }
   ],
   "source": [
    "labels = [0, 1]\n",
    "n_label_items, log_label_priors = fit(train_sentences, train_labels, labels)\n",
    "pred = predict(n_label_items, vocab, word_counts, log_label_priors, labels, test_sentences)\n",
    "print(\"Accuracy: \", accuracy_score(test_labels, pred))"
   ]
  },
  {
   "cell_type": "code",
   "execution_count": 65,
   "id": "242e22f9-0ce4-4725-bd48-6b07d9ad6111",
   "metadata": {},
   "outputs": [
    {
     "name": "stdout",
     "output_type": "stream",
     "text": [
      "('Þessi mynd er geðveikt leiðinleg', ' == [Neikvætt]')\n",
      "('Ég horfði á þessa mynd og verð að segja að mér fannst hún ekki skemmtileg', ' == [Jákvætt]')\n",
      "('Mér fannst þessi mynd satt að segja vera mjög skemmtileg', ' == [Jákvætt]')\n"
     ]
    }
   ],
   "source": [
    "def predict2(text):\n",
    "    if predict(n_label_items, vocab, word_counts, log_label_priors, labels, [text]) == [0]:\n",
    "        return text, ' == [Neikvætt]'\n",
    "    elif predict(n_label_items, vocab, word_counts, log_label_priors, labels, [text]) == [1]:\n",
    "        return text, ' == [Jákvætt]'\n",
    "\n"
   ]
  },
  {
   "cell_type": "code",
   "execution_count": 10,
   "id": "3c8774e7-e4d8-418a-91ff-9736760d301c",
   "metadata": {},
   "outputs": [
    {
     "data": {
      "text/plain": [
       "array(['Maður að nafni Jerry kemst í eigu fornrar Azteka dúkku. Hins vegar er þessi hrollvekjandi litla persóna haldin illum anda, sem tekur yfir líkama Jerrys og ýtir honum til að hella út blóðinu...Ég hef séð tvær aðrar hryllingsmyndir „The Dorm that Dipped Blood\" og \"The Kindred\" gerð af Stephen Carpenter og Jeffrey Obrow og ég verð að segja að \"The Power\" veldur ekki vonbrigðum heldur. Söguþráðurinn er hægfara, en það eru nokkur áhrifarík mannleg goo áhrif og svolítið af gore.Senan þar sem kvenkyns blaðamaður verður fyrir árás af vopnum sem rífa úr dýnu er kjaftæði. Mér líkaði við þessa lággjalda hryllingsmynd og þú ættir líka að gera það ef þú ert í 80\\'s hryllingstegundinni.8 af 10 .',\n",
       "       'Það eru töluverðir peningar á bak við þessa framleiðslu, þannig að útlitið á henni er mjög gott. Það inniheldur nokkrar áhugaverðar framkomur eftir Gilbert Roland, Eddie Burns, og stutt mynd í upphafi eftir Christopher Lee. Það eru nokkrir spennandi skotbardagar, og gamansamir hlutir eða tveir - ádeila á Django, manninn án nafns og Sabata er skemmtileg, sérstaklega þegar þeir fá nöfn misheppnaðra forseta byltingarinnar í Mexíkó. Vandamálið er að þarna er enginn tilgangur með því að gera spaghettí-vestrið ádeilu eins og reynt er hér. Lykilatriðið í Spaghettíinu er IRONY, sem blandast auðveldlega í gamanleik; í raun er uppspretta alls spaghettísins Yojimbo eftir Kurosawa, sem er almennt viðurkennd sem ein af frábæru svörtu gamanmyndum allra tíma, og flestir spaghettíar runnu auðveldlega yfir brúnina í alvöru gamanmynd af mjög háþróaðri gerð. Kannski er besta sönnunin fyrir þessu að finna í Trinity myndunum, sem eru bæði opinskátt spaghetti og opinskátt slatta gamanmynd. Svo hvers vegna að nenna að setja háðsádeilu á tegund sem - eðli málsins samkvæmt - gerir sjálfan sig háðsádeilu? Þar af leiðandi fannst mér allt fyrirtækið í rauninni ósannfærandi. Engin þessara persóna var fólk sem ég myndi nokkurntímann kæra mig um, sagan var almennt klisjukennt og framleiðslugildin endurspegluðu aðeins peningana sem í hlut átti, ekki ástríðu leikstjórans. Þegar á allt er litið, banal og tilgangslaus viðleitni til að græða á fyrirbærinu sem það hæðast að.',\n",
       "       'Ég ætla ekki að spilla fyrir neinum sem hefur ekki enn horft á þetta hógværa meistaraverk eftir Kay Pollak. Heimsfrægur hljómsveitarstjóri snilldarlega leikinn af Michael Nyqvist leitar friðar frá streitu með því að flytja aftur í æskuþorpið sitt. Þorpsbúar, sem hafa fylgt snillingnum í hljóði, freista hans hægt og rólega til að deila stórleika sínum. Hvert hlutverk í þessari mynd hefur mjög sérstakan tilgang og sýnir ótrúlega möguleika í því að hver og einn leikur sinn hljóm í stuttu máli en nákvæmu. orð, sinfónía kærleikans. Ekki ást í skilningi sambands, heldur í tóni andans sem er djúpt grafinn í hverri persónu, sem hver sýnir sína eigin sögu, þarfir sínar, beinagrindur, langanir og margt fleira. Ég skal ekki gleyma að minnast á tvo aðalhlutverkin sem Frida Hallgren og Michael Nyqvist leika, en dramatík þeirra eru leikin í ógleymanlegum samhljómi tilfinningalegrar endurgjöf. Þeir snerta hvort annað með sársauka sem tengist eigin fötlun til að elska sjálfa sig. Michael Nyqvist reynir virkilega á hér í mjög erfiðri uppsetningu, í einni af þessum kvikmyndum sem annað hvort endar sem stórslys eða frábær. Og frábært, það varð frá upphafi til enda, ekki einni sekúndu minna eða meira en nóg, þú situr eftir með tilfinningu fyrir breytingum og smekk fyrir meira. Enn þann dag í dag er örugglega ein besta kvikmynd sem ég hef haft ánægju af að horfa á.',\n",
       "       ...,\n",
       "       'Það er gott að sjá að Vintage Film Buff hefur rétt flokkað frábæra DVD útgáfu sína sem \"söngleik\", því það er það sem þessi mynd er, hrein og bein. Líkt og óopinber endurgerð hennar, Murder at the Windmill (1949), er morðþráðurinn bara afsökun fyrir vandaðri stelpusýningu með Kitty Carlisle og Gertrude Michael í fararbroddi hóps ofurskreyttra stúlkna, þar á meðal Ann Sheridan, Lucy Ball, Beryl Wallace, Gwenllian. Gill, Gladys Young, Barbara Fritchie, Wanda Perry og Dorothy White. Carl Brisson er einnig á staðnum til að ljá \"Cocktails for Two\" sterka rödd sína. Án efa vinsælasta lag myndarinnar, það heyrist hvorki meira né minna en fjórum sinnum. Hins vegar er það Gertrude Michael sem stelur senunni, ekki bara með túlkun sinni á \"Sweet Marijauna\" heldur sterkri frammistöðu sinni sem höfnuð kærasta kappans. Hvað restina af leikarahópnum varðar, hefðum við getað verið án Jack Oakie og Victor McLaglen. Það eina góða við hlutverk Oakie er veikburða hlaupaglugginn hans með sértrúarsöfnuðinum, Toby Wing. Reyndar, til að gefa þér hugmynd um hversu langt restin af gamanmyndinni er of mikið eftirlát og ofþreytt, þá getur ofurheimski eftirlitsmaðurinn McLaglen einfaldlega ekki lagt hendur á morðingja þótt, myndir þú trúa, í þessu tilviki er manneskjan sem þig grunar mest. Leikstjórinn Mitch Leisen leggur sig reyndar fram við að benda morðingjanum á jafnvel heimskasta meðlim kvikmyndaáhorfenda með því að gefa viðkomandi leikara nærmynd eftir nærmynd.',\n",
       "       \"Ímyndaðu þér að þú hafir tækifæri til að sjá sjálfan þig aftur sem krakki. Hugsaðu nú hvað myndi gerast ef þú fengir tækifæri til að tala við yngra sjálfið þitt, eða jafnvel breyta honum/þér. Myndir þú reyna að hafa áhrif á eða reyna að breyta viðhorfum yngra sjálfs þíns í ljósi framtíðarupplifunar þinnar? Eða kannski myndi fundurinn breyta skynjun eldra sjálfs þíns á lífinu og veruleikanum? Walt Disney's The Kid reynir að koma þessari flóknu hugsun til skila með því að setja „eldra sjálfið“ Bruce Willis í árekstra með „yngra sjálfinu“ Spenser Breslin (úr Jólasveininum 2 og The Cat in the Hat „frægð“). Niðurstaðan er stundum fyndin og stundum áhrifamikil fundur, sem fær þig til að velta fyrir þér eigin fortíð, nútíð og framtíð og trúa því sannarlega að það sé aldrei of seint að breyta um stefnu.\",\n",
       "       'Það er nákvæmlega ekkert að leysa þessa mynd. Þeir tóku fáránlega sögu, misskildu hana, skrifuðu rangt, mynduðu rangt. Það hefur slæma samræðu illa flutt í hvikandi og drasli sögu. Eins illa og það misheppnast eins og listin, mistekst það enn verra sem verslun. Hver gæti hafa verið markmarkaðurinn fyrir þetta. Hvaða aldurshópur? Hvaða hagsmunasamtök? Einhver ætti að gera kvikmynd um hvernig og hvers vegna þeir gerðu þessa mynd. Það myndi ég borga fyrir að sjá. Ég hef séð þúsundir slæmra kvikmynda, og þetta flokkast með \"Sailor Who Fell from Grace\" og \"Manos\" ... val mitt sem þrjár óafturkræfustu slæmu myndirnar sem ég hef séð. Allir sem tengjast því ættu að neyðast til að tala við VanDamme um alla eilífð. Ég skora á þig. Horfðu á þessa mynd og gerðu fræðilega æfingu - hvernig gætirðu tekið þessu og gert það verra? Ég get ekki hugsað um eina leið.'],\n",
       "      dtype=object)"
      ]
     },
     "execution_count": 10,
     "metadata": {},
     "output_type": "execute_result"
    }
   ],
   "source": [
    "\n",
    "\n",
    "#classifier = NaiveBayesClassifier.train(\n",
    "\n"
   ]
  }
 ],
 "metadata": {
  "kernelspec": {
   "display_name": "Python 3 (ipykernel)",
   "language": "python",
   "name": "python3"
  },
  "language_info": {
   "codemirror_mode": {
    "name": "ipython",
    "version": 3
   },
   "file_extension": ".py",
   "mimetype": "text/x-python",
   "name": "python",
   "nbconvert_exporter": "python",
   "pygments_lexer": "ipython3",
   "version": "3.10.7"
  }
 },
 "nbformat": 4,
 "nbformat_minor": 5
}
