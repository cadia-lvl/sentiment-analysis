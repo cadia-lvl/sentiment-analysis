{
 "cells": [
  {
   "cell_type": "markdown",
   "id": "d2644f3e",
   "metadata": {},
   "source": [
    "# Viðhorfsgreining á Íslenskum texta með Naive Bayes\n",
    "\n",
    "Náð var í gagnasett 50 þúsund gagnrýnum, sem var vélþýtt með Miðeind og Google Translate\n",
    "\n",
    "\n"
   ]
  },
  {
   "cell_type": "code",
   "execution_count": 4,
   "id": "aea3f6bf",
   "metadata": {},
   "outputs": [],
   "source": [
    "import pandas as pd\n",
    "import numpy as np\n",
    "from src import process\n",
    "from sklearn.feature_extraction.text import CountVectorizer, TfidfTransformer\n",
    "from sklearn.model_selection import train_test_split\n",
    "from sklearn.naive_bayes import MultinomialNB\n",
    "from sklearn.metrics import accuracy_score\n",
    "from sklearn.preprocessing import LabelEncoder\n",
    "\n",
    "# Icelandic text normalization that will lowercase, lemmatize, remove stopwords and tokenize\n",
    "\n",
    "#data = pd.read_csv(\"IMDB-Dataset-GoogleTranslate-Processed.csv\")\n",
    "#data = pd.read_csv(\"IMDB-Dataset.csv\")\n",
    "\n",
    "\n",
    "\n",
    "#tn = process.TextNormalizer()\n",
    "#data['review'] = data['review'].apply(tn.process)\n",
    "#data.to_csv(\"IMDB-Dataset-MideindTranslate-Processed.csv\", encoding=\"utf-8\")\n",
    "\n",
    "\n",
    "\n",
    "data = pd.read_csv(\"IMDB-Dataset-GoogleTranslate-Processed.csv\")\n",
    "data.head()\n"
   ]
  },
  {
   "cell_type": "code",
   "execution_count": 19,
   "id": "1988c1e5",
   "metadata": {},
   "outputs": [
    {
     "name": "stdout",
     "output_type": "stream",
     "text": [
      "Multinomial 0.8345\n",
      "['negative' 'positive' 'positive' 'negative']\n"
     ]
    }
   ],
   "source": [
    "# Using occurences of words in a bag of words\n",
    "\n",
    "data = pd.read_csv(\"IMDB-Dataset-GoogleTranslate-Processed.csv\")\n",
    "\n",
    "def cv(data):\n",
    "    count_vectorizer = CountVectorizer(max_features=1200)\n",
    "    emb = count_vectorizer.fit_transform(data)\n",
    "    return emb, count_vectorizer\n",
    "\n",
    "list_corpus = data[\"review\"].tolist()\n",
    "list_labels = data[\"sentiment\"].tolist()\n",
    "\n",
    "\n",
    "X_train, X_test, y_train, y_test = train_test_split(list_corpus, list_labels, test_size=0.2, random_state=42)\n",
    "\n",
    "X_train_counts, count_vectorizer = cv(X_train)\n",
    "X_test_counts = count_vectorizer.transform(X_test)\n",
    "\n",
    "\n",
    "\n",
    "# Create Naive Bayes Classifiers\n",
    "mnb = MultinomialNB()\n",
    "mnb.fit(X_train_counts, y_train)\n",
    "y_pred_mnb = mnb.predict(X_test_counts)\n",
    "print(\"Multinomial\", accuracy_score(y_test, y_pred_mnb))\n",
    "\n",
    "\n",
    "def test(texts):\n",
    "    X_new_counts = count_vectorizer.transform(texts)\n",
    "    return mnb.predict(X_new_counts)\n",
    "   \n",
    "\n",
    "print(test([\"Satt að segja fannst mér þessi mynd ekki vera mjög skemmtileg\", \n",
    "            \"Mér fannst þessi mynd geggjuð\", \n",
    "            \"Mér fannst þessi mynd mjög skemmtileg\",\n",
    "            \"Ég var skellihlæjandi allan tíman því myndin var svo fyndin\"]))\n",
    "\n",
    "\n",
    "\n",
    "# 82%"
   ]
  },
  {
   "cell_type": "code",
   "execution_count": 21,
   "id": "d5f86576",
   "metadata": {},
   "outputs": [
    {
     "ename": "AttributeError",
     "evalue": "'MultinomialNB' object has no attribute 'coef_'",
     "output_type": "error",
     "traceback": [
      "\u001b[0;31m---------------------------------------------------------------------------\u001b[0m",
      "\u001b[0;31mAttributeError\u001b[0m                            Traceback (most recent call last)",
      "Cell \u001b[0;32mIn[21], line 54\u001b[0m\n\u001b[1;32m     50\u001b[0m     plt\u001b[39m.\u001b[39msubplots_adjust(wspace\u001b[39m=\u001b[39m\u001b[39m0.8\u001b[39m)\n\u001b[1;32m     51\u001b[0m     plt\u001b[39m.\u001b[39mshow()\n\u001b[0;32m---> 54\u001b[0m importance \u001b[39m=\u001b[39m get_most_important_features(count_vectorizer, mnb, \u001b[39m50\u001b[39;49m)\n\u001b[1;32m     56\u001b[0m top_scores \u001b[39m=\u001b[39m [a[\u001b[39m0\u001b[39m] \u001b[39mfor\u001b[39;00m a \u001b[39min\u001b[39;00m importance[\u001b[39m0\u001b[39m][\u001b[39m'\u001b[39m\u001b[39mtops\u001b[39m\u001b[39m'\u001b[39m]]\n\u001b[1;32m     57\u001b[0m top_words \u001b[39m=\u001b[39m [a[\u001b[39m1\u001b[39m] \u001b[39mfor\u001b[39;00m a \u001b[39min\u001b[39;00m importance[\u001b[39m0\u001b[39m][\u001b[39m'\u001b[39m\u001b[39mtops\u001b[39m\u001b[39m'\u001b[39m]]\n",
      "Cell \u001b[0;32mIn[21], line 9\u001b[0m, in \u001b[0;36mget_most_important_features\u001b[0;34m(vectorizer, model, n)\u001b[0m\n\u001b[1;32m      7\u001b[0m \u001b[39m# loop for each class\u001b[39;00m\n\u001b[1;32m      8\u001b[0m classes \u001b[39m=\u001b[39m{}\n\u001b[0;32m----> 9\u001b[0m \u001b[39mfor\u001b[39;00m class_index \u001b[39min\u001b[39;00m \u001b[39mrange\u001b[39m(model\u001b[39m.\u001b[39;49mcoef_\u001b[39m.\u001b[39mshape[\u001b[39m0\u001b[39m]):\n\u001b[1;32m     10\u001b[0m     word_importances \u001b[39m=\u001b[39m [(el, index_to_word[i]) \u001b[39mfor\u001b[39;00m i,el \u001b[39min\u001b[39;00m \u001b[39menumerate\u001b[39m(model\u001b[39m.\u001b[39mcoef_[class_index])]\n\u001b[1;32m     11\u001b[0m     sorted_coeff \u001b[39m=\u001b[39m \u001b[39msorted\u001b[39m(word_importances, key \u001b[39m=\u001b[39m \u001b[39mlambda\u001b[39;00m x : x[\u001b[39m0\u001b[39m], reverse\u001b[39m=\u001b[39m\u001b[39mTrue\u001b[39;00m)\n",
      "\u001b[0;31mAttributeError\u001b[0m: 'MultinomialNB' object has no attribute 'coef_'"
     ]
    }
   ],
   "source": [
    "import numpy as np\n",
    "import matplotlib.pyplot as plt\n",
    "\n",
    "def get_most_important_features(vectorizer, model, n=5):\n",
    "    index_to_word = {v:k for k,v in vectorizer.vocabulary_.items()}\n",
    "    \n",
    "    # loop for each class\n",
    "    classes ={}\n",
    "    for class_index in range(model.coef_.shape[0]):\n",
    "        word_importances = [(el, index_to_word[i]) for i,el in enumerate(model.coef_[class_index])]\n",
    "        sorted_coeff = sorted(word_importances, key = lambda x : x[0], reverse=True)\n",
    "        tops = sorted(sorted_coeff[:n], key = lambda x : x[0])\n",
    "        bottom = sorted_coeff[-n:]\n",
    "        classes[class_index] = {\n",
    "            'tops':tops,\n",
    "            'bottom':bottom\n",
    "        }\n",
    "    return classes\n",
    "\n",
    "def plot_important_words(top_scores, top_words, bottom_scores, bottom_words, name):\n",
    "    y_pos = np.arange(len(top_words))\n",
    "    top_pairs = [(a,b) for a,b in zip(top_words, top_scores)]\n",
    "    top_pairs = sorted(top_pairs, key=lambda x: x[1])\n",
    "    \n",
    "    bottom_pairs = [(a,b) for a,b in zip(bottom_words, bottom_scores)]\n",
    "    bottom_pairs = sorted(bottom_pairs, key=lambda x: x[1], reverse=True)\n",
    "    \n",
    "    top_words = [a[0] for a in top_pairs]\n",
    "    top_scores = [a[1] for a in top_pairs]\n",
    "    \n",
    "    bottom_words = [a[0] for a in bottom_pairs]\n",
    "    bottom_scores = [a[1] for a in bottom_pairs]\n",
    "    \n",
    "    fig = plt.figure(figsize=(10, 20))  \n",
    "\n",
    "    plt.subplot(121)\n",
    "    plt.barh(y_pos,bottom_scores, align='center', alpha=0.5)\n",
    "    plt.title('Negative', fontsize=20)\n",
    "    plt.yticks(y_pos, bottom_words, fontsize=14)\n",
    "    plt.suptitle('Key words', fontsize=16)\n",
    "    plt.xlabel('Importance', fontsize=20)\n",
    "    \n",
    "    plt.subplot(122)\n",
    "    plt.barh(y_pos,top_scores, align='center', alpha=0.5)\n",
    "    plt.title('Positive', fontsize=20)\n",
    "    plt.yticks(y_pos, top_words, fontsize=14)\n",
    "    plt.suptitle(name, fontsize=16)\n",
    "    plt.xlabel('Importance', fontsize=20)\n",
    "    \n",
    "    plt.subplots_adjust(wspace=0.8)\n",
    "    plt.show()\n",
    "\n",
    "    \n",
    "importance = get_most_important_features(count_vectorizer, mnb, 50)\n",
    "\n",
    "top_scores = [a[0] for a in importance[0]['tops']]\n",
    "top_words = [a[1] for a in importance[0]['tops']]\n",
    "bottom_scores = [a[0] for a in importance[0]['bottom']]\n",
    "bottom_words = [a[1] for a in importance[0]['bottom']]\n",
    "\n",
    "plot_important_words(top_scores, top_words, bottom_scores, bottom_words, \"Most important words for relevance\")"
   ]
  },
  {
   "cell_type": "code",
   "execution_count": 24,
   "id": "81fbef64",
   "metadata": {},
   "outputs": [
    {
     "name": "stdout",
     "output_type": "stream",
     "text": [
      "['negative' 'positive' 'positive' 'negative']\n"
     ]
    }
   ],
   "source": [
    "# Term Freqencies\n",
    "tf_transformer = TfidfTransformer(use_idf=False)\n",
    "\n"
   ]
  },
  {
   "cell_type": "code",
   "execution_count": 37,
   "id": "8331ebab",
   "metadata": {},
   "outputs": [
    {
     "name": "stdout",
     "output_type": "stream",
     "text": [
      "50000 2 25000 25000\n"
     ]
    }
   ],
   "source": [
    "reviews, sentiments = data[\"review\"], data[\"sentiment\"]\n",
    "total_positive, total_negative = sentiments.value_counts()[\"positive\"], sentiments.value_counts()[\"negative\"]\n",
    "print(len(reviews), len(sentiment), total_positive, total_negative)"
   ]
  },
  {
   "cell_type": "code",
   "execution_count": 38,
   "id": "0b32f5d6",
   "metadata": {},
   "outputs": [
    {
     "data": {
      "text/plain": [
       "[({'sentiment': 'negative'},\n",
       "  \"Hvattur af jákvæðum ummælum um þessa mynd hérna, hlakkaði ég til að horfa á þessa mynd. Slæm mistök. Ég hef séð 950+ kvikmyndir og þetta er sannarlega ein af þeim verstu - hún er hræðileg á næstum öllum sviðum: klipping, skeið, söguþráður, 'leikur', hljóðrás (eina lag myndarinnar - lame country lag - er spilað nr. minna en fjórum sinnum). Myndin lítur ódýr og viðbjóðslega út og er leiðinleg í öfgakennd. Sjaldan hef ég verið jafn ánægður með að sjá lokaeintök kvikmyndar. Það eina sem kemur í veg fyrir að ég gefi þessu 1-einkunn er Harvey Keitel - þó að þetta sé langt frá hans besta frammistöðu virðist hann að minnsta kosti vera að leggja sig svolítið fram. Einn fyrir Keitel þráhyggju.\"),\n",
       " ({'sentiment': 'positive'},\n",
       "  'Einn hinna gagnrýnenda hefur nefnt að eftir að hafa horft aðeins á 1 Oz þátt þá verðurðu hrifinn. Þeir hafa rétt fyrir sér, þar sem þetta er nákvæmlega það sem gerðist hjá mér. Það fyrsta sem sló mig við Oz var grimmd hans og óbilandi ofbeldissenur, sem hófust strax frá orðinu GO. Treystu mér, þetta er ekki sýning fyrir viðkvæma eða feimna. Þessi þáttur dregur enga kjaft með tilliti til eiturlyfja, kynlífs eða ofbeldis. Það er harðkjarna, í klassískri notkun orðsins. Það er kallað OZ þar sem það er gælunafnið sem Oswald hámarksöryggishegningarhúsið er gefið. Hún fjallar aðallega um Emerald City, tilraunahluta fangelsisins þar sem allir klefar eru með glerframhlið og snúa inn á við, þannig að friðhelgi einkalífsins er ekki ofarlega á baugi. Em City er heimili margra..Aríar, múslimar, glæpamenn, latínóar, kristnir, ítalir, írar og fleira....þannig að deilur, dauðaglápur, dónaleg samskipti og skuggalegir samningar eru aldrei langt undan. Ég myndi segja að aðaláfrýjunin þátturinn er vegna þess að hann fer þangað sem aðrir þættir myndu ekki þora. Gleymdu fallegum myndum sem málaðar eru fyrir almenna áhorfendur, gleymdu sjarma, gleymdu rómantík...OZ klúðrar ekki. Fyrsti þátturinn sem ég sá fannst mér svo viðbjóðslegur að hann var súrrealískur, ég gat ekki sagt að ég væri tilbúinn í hann, en eftir því sem ég horfði á meira fékk ég smekk fyrir Oz og venst miklu magni grafísku ofbeldis. Ekki bara ofbeldi, heldur óréttlæti (skökkir verðir sem verða uppseldir fyrir krakka, fangar sem drepa eftir pöntun og komast upp með það, velsiðaðir miðstéttarfangar sem eru gerðir að fangelsistíkum vegna skorts á götukunnáttu eða reynslu í fangelsi) Þegar þú horfir á Oz gætirðu orðið sáttur við það sem er óþægilegt að skoða....það er ef þú kemst í samband við dekkri hliðina þína.'),\n",
       " ({'sentiment': 'positive'},\n",
       "  'Yndisleg lítil framleiðsla. Kvikmyndatæknin er mjög yfirlætislaus - mjög gamaldags BBC tíska og gefur hughreystandi, og stundum óþægilega, tilfinningu fyrir raunsæi í allt verkið. Leikararnir eru einstaklega vel valdir - Michael Sheen er ekki bara með „all the polari“ heldur er hann með allar raddirnar líka! Þú getur sannarlega séð hnökralausa klippingu með vísan í dagbókarfærslur Williams að leiðarljósi, ekki aðeins er það vel þess virði að horfa á hana heldur er þetta frábærlega skrifað og flutt verk. Snilldar uppsetning um einn af stórmeistara gamanleikanna og líf hans. Raunsæið kemur í raun heim með litlu hlutunum: fantasían um vörðinn sem heldur en að nota hefðbundna „drauma“ tækni er traust og hverfur síðan. Það spilar á þekkingu okkar og skilningarvit okkar, sérstaklega með atriðin um Orton og Halliwell og leikmyndin (sérstaklega íbúð þeirra með veggmyndum Halliwells sem skreyta alla fleti) eru hræðilega vel unnin.'),\n",
       " ({'sentiment': 'positive'},\n",
       "  '\"Love in the Time of Money\" eftir Petter Mattei er sjónrænt töfrandi mynd til að horfa á. Herra Mattei gefur okkur lifandi mynd um mannleg samskipti. Þetta er kvikmynd sem virðist vera að segja okkur hvað peningar, völd og velgengni gera fólki í mismunandi aðstæðum sem við lendum í. Þar sem þetta er tilbrigði við leikrit Arthur Schnitzlers um sama þema, flytur leikstjórinn aðgerðina til nútímans í New York þar sem allar þessar ólíku persónur hittast og tengjast. Hver og einn er tengdur á einn eða annan hátt við næsta mann, en enginn virðist vita fyrri snertistaðinn. Stílhrein, myndin hefur fágað lúxus útlit. Við erum tekin að sjá hvernig þetta fólk lifir og heiminn sem það býr í sínu eigin búsvæði. Það eina sem maður fær út úr öllum þessum sálum á myndinni er mismunandi stig einmanaleika sem hver og einn býr í. Stórborg er ekki beinlínis besti staðurinn þar sem mannleg samskipti njóta einlægrar lífsfyllingar, eins og maður sér að er raunin með flest fólk sem við hittum. Leiklistin er góð undir stjórn Mr. Mattei. Steve Buscemi, Rosario Dawson, Carol Kane, Michael Imperioli, Adrian Grenier og hinir af hæfileikaríku leikarana gera þessar persónur lifandi. Við óskum herra Mattei góðs gengis og bíðum spennt eftir næsta verki hans.')]"
      ]
     },
     "execution_count": 38,
     "metadata": {},
     "output_type": "execute_result"
    }
   ],
   "source": [
    "def sentiment_feature(txt):\n",
    "    return {'sentiment': txt}\n",
    "\n",
    "featureset = [(sentiment_feature(sentiment), review) for (review, sentiment) in zip(reviews, sentiments)]\n",
    "featureset[0:4]"
   ]
  },
  {
   "cell_type": "code",
   "execution_count": 36,
   "id": "ccecf10e",
   "metadata": {},
   "outputs": [
    {
     "name": "stdout",
     "output_type": "stream",
     "text": [
      "0.0\n"
     ]
    }
   ],
   "source": [
    "train_set, test_set = featureset[0:40000], featureset[40000:50000]\n",
    "import nltk\n",
    "classifier = nltk.NaiveBayesClassifier.train(train_set)\n",
    "print(nltk.classify.accuracy(classifier, test_set))"
   ]
  }
 ],
 "metadata": {
  "kernelspec": {
   "display_name": "Python 3 (ipykernel)",
   "language": "python",
   "name": "python3"
  },
  "language_info": {
   "codemirror_mode": {
    "name": "ipython",
    "version": 3
   },
   "file_extension": ".py",
   "mimetype": "text/x-python",
   "name": "python",
   "nbconvert_exporter": "python",
   "pygments_lexer": "ipython3",
   "version": "3.10.7"
  }
 },
 "nbformat": 4,
 "nbformat_minor": 5
}
