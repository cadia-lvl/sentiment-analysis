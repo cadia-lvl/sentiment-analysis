{
 "cells": [
  {
   "cell_type": "code",
   "execution_count": 3,
   "id": "2f7622ca-bbd1-4e08-83bf-8a25896fab0d",
   "metadata": {},
   "outputs": [
    {
     "name": "stdout",
     "output_type": "stream",
     "text": [
      "einn af hinum rýnunum hafa nefndur að eftir að hafa horft eiga bara oz þáttinn þá verða maður háður hann hafa réttur fyrir sjá enda vera þessi einmitt það sem koma fyrir mig það fyrsta sem koma mér eiga óvar í sambandi ég oz vera hrottaskapur og ófyrirleitni í ofbeldisþáttum sem vera einmitt sett beinn upp úr orðinu go treysta mér þessi vera ekki sýning fyrir þá daufu og feimnu þessi þáttur kippa sjá enginn upp ég fíkniefni kynlíf eða ofbeldi þessi vera mjög harðkjarna í sígildri notkun orðsins það vera kallaður oz sem vera viðurnefni sem oswald maximum security state-fangelsi fá þessi vera aðallega sýndur í emerald-borg tilraunaþætti fangelsisins þar sem allur klefi eru með gler-hlið og andlit inn eiga ég svo einkalíf vera ekki ofarlega eiga dagskrá emwald-borg vera heimili margra aryans múslimi múslimi tabú rómantíkerar kristinn ítalir írar og margur kúgun dauðadjásn dónalegur samskipti og skuggalegur samningur eru aldrei langur undan ég mynda segja að aðalaðdráttarafl þáttanna vera vegna þess að hann fara þangað sem annar þáttur þora ekki gleyma fallegum mynda sem eru málaður fyrir almenna áhorfandi gleyma sjarmörum rómantík gleyma ekki rómantík ég vera ekki í neinu rugla fyrsti þáttur sem ég sjá slá mig svo illa að hann vera svo ljótur að ég geta ekki sagður að ég vera tilbúinn í hann en eftir því sem ég horfa mikill eiga hann þróa ég með mér smekk fyrir oz og venja miklu grófur ofbeldi ekki bara grófu ofbeldi halda óréttlæti það vera að segja að fangi sem verða seldur út fyrir krónu hann sem verða seldur í fangelsi hann sem verða drepinn eiga nikku og hann fár að skipta um föt hann verða vel skipulagður þeim vera snúa ég hann eru vel skipulagður hann eru í miðri kennslustund þeim vera snúa inn í fangelsi vegna skorts eiga kunnáttu eða reynslu það geta vera óþægilegur að horfa eiga fangelsi sem vera óþægilegur að horfa eiga það sem vera óþægilegur ég fangelsisvistina vera að snerta eiga sjá dökkur hliða það vera óþægilegur að horfa eiga fangelsi ef maður koma í snertingu ég dökkur hliða fanga\n"
     ]
    }
   ],
   "source": [
    "import nltk\n",
    "import pandas as pd\n",
    "from reynir import Greynir\n",
    "from tokenizer import tokenize, TOK\n",
    "from googletrans import Translator\n",
    "\n",
    "data = pd.read_csv('IMDB-Dataset-MideindTranslate.csv')\n",
    "\n",
    "g = Greynir()\n",
    "\n",
    "def process(text):\n",
    "    tokens = tokenize(text.lower())\n",
    "    filtered_tokens = [\n",
    "        token.txt for token in tokens if token.kind == TOK.WORD\n",
    "    ]\n",
    "    output = []\n",
    "    for filtered_token in filtered_tokens:\n",
    "        parsed_token = g.parse_single(filtered_token)\n",
    "        if parsed_token.tree is None or parsed_token.lemmas is None:\n",
    "            output.append(filtered_token)\n",
    "        else:\n",
    "            output.append(parsed_token.lemmas.pop())\n",
    "    return ' '.join(output)\n",
    "    \n",
    "\n",
    "def sentiment_feature(txt):\n",
    "    return {'sentiment': txt}\n",
    "\n",
    "reviews = data[\"review\"][0:2]\n",
    "sentiment = data[\"sentiment\"][0:2]\n",
    "print(process(reviews[0]))\n",
    "#data['review'] = data['review'].apply(process)\n",
    "\n",
    "featuresets = [(sentiment_feature(n), sentiment) \n",
    "               for (sentiment, n) in zip(reviews, sentiment)]\n",
    "\n",
    "\n",
    "#train_set, test_set = featuresets[0:40000], featuresets[40000:50000]\n",
    "#classifier = nltk.NaiveBayesClassifier.train(train_set)\n",
    "#print(nltk.classify.accuracy(classifier, test_set))\n",
    "\n",
    "#\n",
    "\n",
    "\n"
   ]
  }
 ],
 "metadata": {
  "kernelspec": {
   "display_name": "Python 3 (ipykernel)",
   "language": "python",
   "name": "python3"
  },
  "language_info": {
   "codemirror_mode": {
    "name": "ipython",
    "version": 3
   },
   "file_extension": ".py",
   "mimetype": "text/x-python",
   "name": "python",
   "nbconvert_exporter": "python",
   "pygments_lexer": "ipython3",
   "version": "3.10.7"
  }
 },
 "nbformat": 4,
 "nbformat_minor": 5
}
