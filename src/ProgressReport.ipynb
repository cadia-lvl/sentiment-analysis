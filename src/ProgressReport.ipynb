{
 "cells": [
  {
   "cell_type": "markdown",
   "id": "e11b2811",
   "metadata": {},
   "source": [
    "\\begin{center}\n",
    "\\includegraphics[scale=0.5]{img/HR_logo_hringur_transparent.png}\n",
    "\n",
    "\\LARGE{Progress Report} \\\\\n",
    "\n",
    "\\hfill\n",
    "\n",
    "{\\bfseries\\Huge Evaluating Icelandic Sentiment Analysis Models Trained on Translated Data}\n",
    "\n",
    "\\hfill\n",
    "\n",
    "\\textit{Ólafur Aron Jóhannsson} \\\\\n",
    "olafuraj21@ru.is\n",
    "\n",
    "\\textit{Birkir Arndal} \\\\\n",
    "birkirh20@ru.is\n",
    "\n",
    "\\textit{Eysteinn Örn} \\\\\n",
    "eysteinnj19@ru.is\n",
    "\n",
    "\\hfill\n",
    "\n",
    "\n",
    "\\textit{Supervised by} Stefán Ólafsson and Hrafn Loftsson\n",
    "\n",
    "\\textit{Examined by} Sigurjón Ingi Garðarsson\n",
    "\n",
    "\\hfill\n",
    "\n",
    "\n",
    "7 November, 2023\n",
    "\n",
    "\\end{center}\n",
    "\n",
    "\\hfill\n",
    "\n",
    "\\hfill"
   ]
  },
  {
   "cell_type": "markdown",
   "id": "ed375219",
   "metadata": {},
   "source": [
    "# Introduction\n",
    "\n",
    "This report aims to provide a summary of the work we did when doing the research and development of the Sentiment Analysis on Icelandic text. Given the research-oriented nature of our project, as opposed to corporate work, we opted for a Kanban approach rather than Scrum. We started well in advance, with initial preparations and research activities commencing in late July to early August. This timeframe allowed us to familiarize ourselves with the intricacies of machine learning, particularly since only one team member possessed prior experience in Machine Learning and Deep Learning.\n",
    "\n",
    "We've allocated a collective 40 hours per week for all team members, distributed across a span of 20 weeks, aiming to complete this project within this timeframe. This amounts to a total of 800 hours dedicated to the project. \n",
    "We used Discord for communication and had a three weekly standup meetings that were mandatory, but sometimes we added more meetings when needed. GitHub was the repository we used to store the Jupyter Notebooks and Python scripts we used and the CSV dataset as well. JIRA was used to create tasks and plan the work needed. We set specific goals before each status meeting, which were held in October, November and December and this document will go into detail summarizing the work we did.\n",
    "\n",
    "# Project Overview\n",
    "\n",
    "The project is a research project that aims to evaluate the performance of Icelandic sentiment analysis models trained on translated data using Google Translate and Miðeind Translate. The project is supervised by Stefán Ólafsson and Hrafn Loftsson. Output of the project is expected to be a research paper, dataset, and trained models."
   ]
  },
  {
   "cell_type": "markdown",
   "id": "97821be4",
   "metadata": {},
   "source": [
    "# Team Members\n",
    "\n",
    "- Ólafur Aron Jóhannsson\n",
    "\n",
    "- Birkir\n",
    "\n",
    "- Eysteinn"
   ]
  },
  {
   "cell_type": "markdown",
   "id": "bcf38db9",
   "metadata": {},
   "source": [
    "# Initial project proposal"
   ]
  },
  {
   "cell_type": "markdown",
   "id": "67baccdc",
   "metadata": {},
   "source": [
    "# Work Plan\n",
    "\n",
    "The work plan we opted for was to set specific goals before each status meeting, we amended the goals with regards to the time we had, you can see the initial project proposal in the chapter compared to the amended goals. We also go into more detail of each phase of the work we did in the later chapters. The status meetings and the goals were roughly setup in the following list:\n",
    "\n",
    "## Status meeting 1\n",
    "\n",
    "- Translate IMDB data using Google and Miðeind into usable CSV datasets\n",
    "- Pre-process translated data (remove noise, HTML, lemmatize) for the machine learning classifiers\n",
    "- Train and predict three baseline machine learning classifiers\n",
    "-- Naive Bayes, Logistic Regression and Support Vector Classifier\n",
    "- Train on English dataset as well as Miðeind and Google for sanity checking\n",
    "- Start writing the final report and the results\n",
    "- Try out the models on other dataset from (OfficialStation hand-written Icelandic data in this case)\n",
    "\n",
    "## Status meeting 2\n",
    "\n",
    "- Pre-process translated data (remove noise, HTML, lemmatize) for the neural network models\n",
    "- Train and predict three neural network models\n",
    "-- RoBERTa for English and IceBERT/Electra for translated Google/Miðeind dataset\n",
    "- Get dataset from OfficialStation and Kvikmyndaryni and run the models on them\n",
    "\n",
    "## Status meeting 3\n",
    "\n",
    "- Get all results into the final report\n",
    "- Finish the presentation slides\n",
    "- Finish the progress report"
   ]
  },
  {
   "cell_type": "markdown",
   "id": "2bea1b1d",
   "metadata": {},
   "source": [
    "# Phase 1 (Late July - August)\n",
    "\n",
    "## Beginning of project\n",
    "\n",
    "The project was initially started by Eysteinn and Ólafur Aron communicating through email to find a team member to work with in the final project, Eysteinn had been working on a project relating to Neural Networks and had an idea if we should do something similar for this project. Soon afterwards Birkir and Júlíus also joined as team members for the project. We created the Discord channel for communication at this stage.\n",
    "\n",
    "\n",
    "## Project idea\n",
    "\n",
    "We got into contact with Hrafn Loftsson at Reykjavik University and told him we wanted to work on something relating to Neural Networks. He told us to find a few ideas and bring them to him, we started brainstorming and talking on Discord and after some sessions the ideas that we proposed to him were:\n",
    "\n",
    "- Text simplification idea for Icelandic\n",
    "- AI to fix vocabulary and spelling\n",
    "- GameQA extension\n",
    "- Sentiment analysis\n",
    "- AI poem generator\n",
    "- Automatic classification of emails with AI\n",
    "\n",
    "Hrafn suggested that we focus on Sentiment Analysis, this was in early August and soon after we had a meeting with him to talk about the ideas.\n",
    "\n",
    "## Initial project proposal\n",
    "\n",
    "We started working on the project proposal to submit to Kári after the meeting and we also started to familiarize ourselves with AI and Machine Learning, around the end of August we sent a project proposal into Canvas which looked like:\n",
    "\n",
    "\n",
    "\n",
    "\n"
   ]
  },
  {
   "cell_type": "markdown",
   "id": "ab2b3e58",
   "metadata": {},
   "source": [
    "# Phase 2 (September-October)\n",
    "\n",
    "In early September we created the GitHub repository and also the JIRA board, it was also decided at that particular time that we would use Kanban mainly because it was difficult to exactly plan sprints and tasks before-hand so we opted out of a Scrum approach. We also got into contact with Sigurjón Ingi our supervisor and had a meeting with him at that point.\n",
    "\n",
    "Soon after there was some confusion and Sigurjón Ingi became our examiner and Stefán Ólafsson and Hrafn Loftsson became our supervisors instead.\n",
    "\n",
    "## Translation and lemmatization\n",
    "\n",
    "It was decided with Hrafn that we would use the IMDB dataset (https://ai.stanford.edu/~amaas/data/sentiment/) which is a known dataset of 50.000 reviews split into positive and negative, so we started to experiment using the Google Trans API and the Vélþýðing API in Python to manually machine translate all of the data.\n",
    "\n",
    "We had some issues with the Vélþýðing API but after we figured out how to solve them we started to research how the dataset should be processed and lemmatized (https://en.wikipedia.org/wiki/Lemmatization)\n",
    "\n",
    "We also removed HTML tags, removed stop words (https://en.wikipedia.org/wiki/Stop_word) \n",
    "\n",
    "## Classifiers \n",
    "\n",
    "Each of us were assigned tasks to research classifiers, Birkir was researching Logistic Regression, Ólafur Naive Bayes, Júlíus Word Vector and Eysteinn was looking into IceBERT, it took some time to setup the pipelines for the classifiers but we setup a pipeline with default parameters of Naive Bayes, Logistic Regression and SVC. It was decided to not delve deeper into Word Vectors because at this point Júlíus decided to leave the project so we were three left.\n",
    "\n"
   ]
  },
  {
   "cell_type": "markdown",
   "id": "3b179a8e",
   "metadata": {},
   "source": [
    "# Phase 3 (November-December)"
   ]
  },
  {
   "cell_type": "markdown",
   "id": "97d0052a",
   "metadata": {},
   "source": [
    "# Initial Project proposal\n",
    "\n",
    "The initial project proposal, where we first decided to use four classifiers but have changed to three, we also decided to use scalable sentiment classification but also decided that it was not necessary to use it. We have also not manually created any reviews but we have instead found hand-written reviews by native Icelandic speakers instead. The proposal was also done with the intention in mind that we would be four students, but one student dropped out of the project.\n",
    "\n",
    "\n",
    "![](img/proposal1.png)\n",
    "\n",
    "![](img/proposal2.png)\n",
    "\n"
   ]
  },
  {
   "cell_type": "markdown",
   "id": "24a837e2",
   "metadata": {},
   "source": [
    "# Risk Analysis\n",
    "\n",
    "| Risk                                  | Likelihood (1-5)  | Impact (1-5)  | Responsibility    | Mitigation Strategy |\n",
    "|---------------------------------------|-------------------|---------------|-------------------|---------------------|\n",
    "| Resource Constraints (Time and Computing Power) | 4       | 5             | Eysteinn          | Prioritize key features and models that are critical to the project. Consider using cloud computing resources. |\n",
    "| Training stops/Computer crashes       | 4                 | 4             | Ólafur            | Regular backups and distributed training could mitigate this risk. |\n",
    "| Sprint/Project delay                  | 3                 | 5             | Ólafur            | Address the problem in the standup's and frequent reassessments. |\n",
    "| Incompatibility of Translation APIs   | 3                 | 3             | Birkir            | Have fallback methods for each API, and make the system modular to easily swap out one service for another. |\n",
    "| Classifier Model Inefficiency         | 3                 | 3             | Eysteinn          | Use baseline models for initial testing before using more complex models like BERT, roBERTa, and IceBERT. |\n",
    "| Overfitting in Model Training         | 2                 | 4             | Birkir            | Utilize techniques such as cross-validation and dropout layers. |\n",
    "| Illness in team                       | 2                 | 4             | Whole Team        | Cross-training and comprehensive documentation can help other team members pick up the slack. Tries not getting other team members sick. |\n",
    "| API Rate Limiting or Costs            | 2                 | 3             | Birkir            | Caching translated data and batch processing could help in minimizing the number of API calls. |\n",
    "| A team member quits                   | 1                 | 5             | Whole Team        | Having a documented and modular project architecture allows for easier transition of responsibilities. |\n",
    "| External Dependency Failures (APIs down) | 1              | 2             | Whole Team        | Have a contingency plan, such as a local translation model otherwise wait and focus on a different task |\n",
    "\n",
    "\n",
    "One risk has already happened and this is a team member quits, Júlíus decided to quit the project but because the Project Proposal was well defined we adjusted accordingly and the only impact is that our final produce may not be what was originally intended."
   ]
  },
  {
   "cell_type": "markdown",
   "id": "a21983a9",
   "metadata": {},
   "source": [
    "# Status Meeting 1\n",
    "\n",
    "What we have done since starting the project is setup JIRA, deciding on a Kanban approach. We created tasks, setup risk analysis, and created a project proposal. We started to research different classifiers and ended up using three machine learning classifiers, Naive Bayes, Logistic Regression and Support Vector Machines. We used two machine translated datasets, one from Google and one from Miðeind and trained the classifiers on said datasets.\n",
    "\n",
    "We trained and predicted our classifiers on the datasets, looking into the Final Report one can see that results of that training, but Support Vector Classifier had the best results.\n",
    "\n",
    "We also got a subset of a dataset from Hannes to test our classifiers. We also started to look into the IceBERT model and how to use it for our project.\n",
    "\n",
    "![](img/jira1.png)\n",
    "\n",
    "The burndown chart at status meeting one. The sum of the spent hours for each team member is\n",
    "- Ólafur Aron Jóhannsson (100)\n",
    "- Eysteinn Örn (44)\n",
    "- Birkir (50)\n",
    "\n",
    "![](img/Burndown1.png)\n",
    "\n",
    "## Next steps\n",
    "\n",
    "Start working on the deep learning models, get the dataset from Hannes and possibly more datasets, start work on classifiers in final report"
   ]
  },
  {
   "cell_type": "markdown",
   "id": "899ebe91",
   "metadata": {},
   "source": [
    "# Status Meeting 2\n",
    "\n",
    "What we have done since status meeting one, we got into email contact with Hannes at Official Station to ask if he could send us the dataset on his website, after communicating with him our intent he sent us a MySQL database file with all of the reviews.\n",
    "\n",
    "- First we had to take all of the MySQL data and convert it into CSV, after first conversion the data looked like\n",
    "\n",
    "![](img/screen_hannes1.png)\n",
    "\n",
    "- Then we had to convert the unicode characters and change the sentiment into positive or negative based on values 1-5 or 6-10, after the conversion we got 932 positive and 179 negative reviews\n",
    "\n",
    "Most of our time has gone into work on the deep learning models, how to correctly train the models, get code that can be used by all datasets, find out which datasets are the \"best\" for the models.\n",
    "Some key takeaways are that in contrast to the machine learning classifiers the deep learning models suffer when we process the data too much, we found out that unprocessed data gives the best results\n",
    "\n",
    "\n",
    "\n",
    "![](img/jira2.png)\n",
    "\n",
    "The burndown chart at status meeting one. The sum of the spent hours for each team member is\n",
    "- Ólafur Aron Jóhannsson (229)\n",
    "- Eysteinn Örn (160)\n",
    "- Birkir (196)\n",
    "\n",
    "![](img/burndown2.png)\n",
    "\n",
    "## Next Steps\n",
    "\n",
    "Continue working on the final report, add more datasets to the deep learning models, and start working on the final presentation."
   ]
  }
 ],
 "metadata": {
  "kernelspec": {
   "display_name": "Python 3 (ipykernel)",
   "language": "python",
   "name": "python3"
  },
  "language_info": {
   "codemirror_mode": {
    "name": "ipython",
    "version": 3
   },
   "file_extension": ".py",
   "mimetype": "text/x-python",
   "name": "python",
   "nbconvert_exporter": "python",
   "pygments_lexer": "ipython3",
   "version": "3.10.12"
  }
 },
 "nbformat": 4,
 "nbformat_minor": 5
}
