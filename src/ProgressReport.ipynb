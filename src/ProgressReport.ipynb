{
 "cells": [
  {
   "cell_type": "markdown",
   "id": "d2644f3e",
   "metadata": {},
   "source": [
    "# Sentiment Analysis on Machine Translated Icelandic corpus\n",
    "\n",
    "Nemendur\n",
    "- Ólafur Aron Jóhannsson, Eysteinn Örn, Birkir Arndal\n",
    "\n",
    "Leiðbeinendur\n",
    "- Hrafn Loftsson (hrafn@ru.is)\n",
    "- Stefán Ólafsson (stefanola@ru.is)\n",
    "\n",
    "\n"
   ]
  },
  {
   "cell_type": "markdown",
   "id": "92a94ad9",
   "metadata": {},
   "source": [
    "# Status since Meeting 1\n",
    "\n",
    "## Official Station Movie Reviews\n",
    "\n",
    "We got into email contact with Hannes at Official Station to ask if he could send us the dataset on his website, after communicating with him our intent he sent us a MySQL database file with all of the reviews.\n",
    "\n",
    "- First we had to take all of the MySQL data and convert it into CSV, after first conversion the data looked like\n",
    "\n",
    "![](screen_hannes1.png)\n",
    "\n",
    "- Then we had to convert the unicode characters and change the sentiment into positive or negative based on values 1-5 or 6-10, after the conversion we got 932 positive and 179 negative reviews.\n",
    "\n",
    "## iceBERT and RoBERTa models\n",
    "\n",
    "Most of our time has gone into work on the deep learning models, how to correctly train the models, get code that can be used by all datasets, find out which datasets are the \"best\" for the models.\n",
    "Some key takeaways are that in contrast to the machine learning classifiers the deep learning models suffer when we process the data\n",
    "\n"
   ]
  },
  {
   "cell_type": "markdown",
   "id": "99917afa",
   "metadata": {},
   "source": [
    "# Burndown Chart\n",
    "\n",
    "Given the research-oriented nature of our project, as opposed to corporate work, we opted for a Kanban approach rather than Scrum. We started well in advance, with initial preparations and research activities commencing in late July to early August. This timeframe allowed us to familiarize ourselves with the intricacies of machine learning, particularly since only one team member possessed prior experience in Machine Learning and Deep Learning.\n",
    "\n",
    "We've allocated a collective 40 hours per week for all team members, distributed across a span of 20 weeks, aiming to complete this project within this timeframe. This amounts to a total of 800 hours dedicated to the project. We expect the burndown to go under the planned line in October since we are picking up the pace but still keeping the 40 hours as a median.\n",
    "\n",
    "The sum of the spent hours for each team member is\n",
    "- Ólafur Aron Jóhannsson (100)\n",
    "- Eysteinn Örn (44)\n",
    "- Birkir (50)\n",
    "\n",
    "The reason Ólafur Aron has accumulated more hours is due to the fact that he will be departing abroad in late November and returning in early December, during which period his hours will be reduced.\n",
    "\n",
    "![JIRA](jira.png)\n",
    "\n",
    "![Burndown](burndown.png)"
   ]
  },
  {
   "cell_type": "markdown",
   "id": "0e95052b",
   "metadata": {},
   "source": [
    "# Risk Analysis\n",
    "\n",
    "| Risk                                  | Likelihood (1-5)  | Impact (1-5)  | Responsibility    | Mitigation Strategy |\n",
    "|---------------------------------------|-------------------|---------------|-------------------|---------------------|\n",
    "| Resource Constraints (Time and Computing Power) | 4       | 5             | Eysteinn          | Prioritize key features and models that are critical to the project. Consider using cloud computing resources. |\n",
    "| Training stops/Computer crashes       | 4                 | 4             | Ólafur            | Regular backups and distributed training could mitigate this risk. |\n",
    "| Sprint/Project delay                  | 3                 | 5             | Ólafur            | Address the problem in the standup's and frequent reassessments. |\n",
    "| Incompatibility of Translation APIs   | 3                 | 3             | Birkir            | Have fallback methods for each API, and make the system modular to easily swap out one service for another. |\n",
    "| Classifier Model Inefficiency         | 3                 | 3             | Eysteinn          | Use baseline models for initial testing before using more complex models like BERT, roBERTa, and IceBERT. |\n",
    "| Overfitting in Model Training         | 2                 | 4             | Birkir            | Utilize techniques such as cross-validation and dropout layers. |\n",
    "| Illness in team                       | 2                 | 4             | Whole Team        | Cross-training and comprehensive documentation can help other team members pick up the slack. Tries not getting other team members sick. |\n",
    "| API Rate Limiting or Costs            | 2                 | 3             | Birkir            | Caching translated data and batch processing could help in minimizing the number of API calls. |\n",
    "| A team member quits                   | 1                 | 5             | Whole Team        | Having a documented and modular project architecture allows for easier transition of responsibilities. |\n",
    "| External Dependency Failures (APIs down) | 1              | 2             | Whole Team        | Have a contingency plan, such as a local translation model otherwise wait and focus on a different task |\n",
    "\n",
    "\n",
    "One risk has already happened and this is a team member quits, Júlíus decided to quit the project but because the Project Proposal was well defined we adjusted accordingly and the only impact is that our final produce may not be what was originally intended."
   ]
  },
  {
   "cell_type": "markdown",
   "id": "9f45ab84",
   "metadata": {},
   "source": [
    "# Project proposal\n",
    "\n",
    "Included is a screenshot of the initial project proposal, it has not been mended in any way at time of writing, as it is still premature to establish that we have to amend the document.\n",
    "\n",
    "![1](proposal1.png)\n",
    "\n",
    "![2](proposal2.png)"
   ]
  },
  {
   "cell_type": "markdown",
   "id": "cf97877e",
   "metadata": {},
   "source": [
    "# Meeting Notes\n",
    "\n",
    "In addition to all data gathered we also tried to keep meeting notes as far back as 26. July.\n",
    "\n",
    "![1](1.png)\n",
    "\n",
    "![2](2.png)\n",
    "\n",
    "![3](3.png)\n",
    "\n",
    "![4](4.png)"
   ]
  }
 ],
 "metadata": {
  "kernelspec": {
   "display_name": "Python 3 (ipykernel)",
   "language": "python",
   "name": "python3"
  },
  "language_info": {
   "codemirror_mode": {
    "name": "ipython",
    "version": 3
   },
   "file_extension": ".py",
   "mimetype": "text/x-python",
   "name": "python",
   "nbconvert_exporter": "python",
   "pygments_lexer": "ipython3",
   "version": "3.10.12"
  }
 },
 "nbformat": 4,
 "nbformat_minor": 5
}
