{
 "cells": [
  {
   "cell_type": "markdown",
   "id": "e11b2811",
   "metadata": {},
   "source": [
    "\\begin{center}\n",
    "\\includegraphics[scale=0.5]{img/HR_logo_hringur_transparent.png}\n",
    "\n",
    "\\LARGE{Progress Report} \\\\\n",
    "\n",
    "\\hfill\n",
    "\n",
    "{\\bfseries\\Huge Evaluating Icelandic Sentiment Analysis Models Trained on Translated Data}\n",
    "\n",
    "\\hfill\n",
    "\n",
    "\\textit{Ólafur Aron Jóhannsson} \\\\\n",
    "olafuraj21@ru.is\n",
    "\n",
    "\\textit{Birkir Arndal} \\\\\n",
    "birkirh20@ru.is\n",
    "\n",
    "\\textit{Eysteinn Örn} \\\\\n",
    "eysteinnj19@ru.is\n",
    "\n",
    "\\hfill\n",
    "\n",
    "\n",
    "\\textit{Supervised by} Stefán Ólafsson and Hrafn Loftsson\n",
    "\n",
    "\\hfill\n",
    "\n",
    "\n",
    "7 November, 2023\n",
    "\n",
    "\\end{center}\n",
    "\n",
    "\\hfill\n",
    "\n",
    "\\hfill"
   ]
  },
  {
   "cell_type": "markdown",
   "id": "ed375219",
   "metadata": {},
   "source": [
    "# Introduction\n",
    "\n",
    "This report aims to provide a summary of the work we did when doing the research and development of the Sentiment Analysis on Icelandic text. Given the research-oriented nature of our project, as opposed to corporate work, we opted for a Kanban approach rather than Scrum. We started well in advance, with initial preparations and research activities commencing in late July to early August. This timeframe allowed us to familiarize ourselves with the intricacies of machine learning, particularly since only one team member possessed prior experience in Machine Learning and Deep Learning.\n",
    "\n",
    "We've allocated a collective 40 hours per week for all team members, distributed across a span of 20 weeks, aiming to complete this project within this timeframe. This amounts to a total of 800 hours dedicated to the project. We expect the burndown to go under the planned line in October since we are picking up the pace but still keeping the 40 hours as a median.\n",
    "\n",
    "We created tasks in JIRA and set goals before each status meeting, details of the status meeting is shown in the document. We also created a Github repository for the project and used it to store all the code and documentation. \n",
    "\n",
    "# Project Overview\n",
    "\n",
    "The project is a research project that aims to evaluate the performance of Icelandic sentiment analysis models trained on translated data. The project is supervised by Stefán Ólafsson and Hrafn Loftsson. Output of the project is expected to be a research paper, dataset, and a trained model."
   ]
  },
  {
   "cell_type": "markdown",
   "id": "97d0052a",
   "metadata": {},
   "source": [
    "# Initial Project proposal\n",
    "\n",
    "The initial project proposal, where we first decided to use four classifiers but have changed to three, we also decided to use scalable sentiment classification but also decided that it was not necessary to use it. We have also not manually created any reviews but we have instead found hand-written reviews by native Icelandic speakers instead. The proposal was also done with the intention in mind that we would be four students, but one student dropped out of the project.\n",
    "\n",
    "\n",
    "![](img/proposal1.png)\n",
    "\n",
    "![](img/proposal2.png)\n",
    "\n"
   ]
  },
  {
   "cell_type": "markdown",
   "id": "24a837e2",
   "metadata": {},
   "source": [
    "# Risk Analysis\n",
    "\n",
    "| Risk                                  | Likelihood (1-5)  | Impact (1-5)  | Responsibility    | Mitigation Strategy |\n",
    "|---------------------------------------|-------------------|---------------|-------------------|---------------------|\n",
    "| Resource Constraints (Time and Computing Power) | 4       | 5             | Eysteinn          | Prioritize key features and models that are critical to the project. Consider using cloud computing resources. |\n",
    "| Training stops/Computer crashes       | 4                 | 4             | Ólafur            | Regular backups and distributed training could mitigate this risk. |\n",
    "| Sprint/Project delay                  | 3                 | 5             | Ólafur            | Address the problem in the standup's and frequent reassessments. |\n",
    "| Incompatibility of Translation APIs   | 3                 | 3             | Birkir            | Have fallback methods for each API, and make the system modular to easily swap out one service for another. |\n",
    "| Classifier Model Inefficiency         | 3                 | 3             | Eysteinn          | Use baseline models for initial testing before using more complex models like BERT, roBERTa, and IceBERT. |\n",
    "| Overfitting in Model Training         | 2                 | 4             | Birkir            | Utilize techniques such as cross-validation and dropout layers. |\n",
    "| Illness in team                       | 2                 | 4             | Whole Team        | Cross-training and comprehensive documentation can help other team members pick up the slack. Tries not getting other team members sick. |\n",
    "| API Rate Limiting or Costs            | 2                 | 3             | Birkir            | Caching translated data and batch processing could help in minimizing the number of API calls. |\n",
    "| A team member quits                   | 1                 | 5             | Whole Team        | Having a documented and modular project architecture allows for easier transition of responsibilities. |\n",
    "| External Dependency Failures (APIs down) | 1              | 2             | Whole Team        | Have a contingency plan, such as a local translation model otherwise wait and focus on a different task |\n",
    "\n",
    "\n",
    "One risk has already happened and this is a team member quits, Júlíus decided to quit the project but because the Project Proposal was well defined we adjusted accordingly and the only impact is that our final produce may not be what was originally intended."
   ]
  },
  {
   "cell_type": "markdown",
   "id": "a21983a9",
   "metadata": {},
   "source": [
    "# Status Meeting 1\n",
    "\n",
    "What we have done since starting the project is setup JIRA, deciding on a Kanban approach. We created tasks, setup risk analysis, and created a project proposal. We started to research different classifiers and ended up using three machine learning classifiers, Naive Bayes, Logistic Regression and Support Vector Machines. We used two machine translated datasets, one from Google and one from Miðeind and trained the classifiers on said datasets.\n",
    "\n",
    "We trained and predicted our classifiers on the datasets, looking into the Final Report one can see that results of that training, but Support Vector Classifier had the best results.\n",
    "\n",
    "We also got a subset of a dataset from Hannes to test our classifiers. We also started to look into the IceBERT model and how to use it for our project.\n",
    "\n",
    "![](img/jira1.png)\n",
    "\n",
    "The burndown chart at status meeting one. The sum of the spent hours for each team member is\n",
    "- Ólafur Aron Jóhannsson (100)\n",
    "- Eysteinn Örn (44)\n",
    "- Birkir (50)\n",
    "\n",
    "![](img/Burndown1.png)\n",
    "\n",
    "## Next steps\n",
    "\n",
    "Start working on the deep learning models, get the dataset from Hannes and possibly more datasets, start work on classifiers in final report"
   ]
  },
  {
   "cell_type": "markdown",
   "id": "899ebe91",
   "metadata": {},
   "source": [
    "# Status Meeting 2\n",
    "\n",
    "What we have done since status meeting one, we got into email contact with Hannes at Official Station to ask if he could send us the dataset on his website, after communicating with him our intent he sent us a MySQL database file with all of the reviews.\n",
    "\n",
    "- First we had to take all of the MySQL data and convert it into CSV, after first conversion the data looked like\n",
    "\n",
    "![](img/screen_hannes1.png)\n",
    "\n",
    "- Then we had to convert the unicode characters and change the sentiment into positive or negative based on values 1-5 or 6-10, after the conversion we got 932 positive and 179 negative reviews\n",
    "\n",
    "Most of our time has gone into work on the deep learning models, how to correctly train the models, get code that can be used by all datasets, find out which datasets are the \"best\" for the models.\n",
    "Some key takeaways are that in contrast to the machine learning classifiers the deep learning models suffer when we process the data too much, we found out that unprocessed data gives the best results\n",
    "\n",
    "\n",
    "\n",
    "![](img/jira2.png)\n",
    "\n",
    "The burndown chart at status meeting one. The sum of the spent hours for each team member is\n",
    "- Ólafur Aron Jóhannsson (229)\n",
    "- Eysteinn Örn (160)\n",
    "- Birkir (196)\n",
    "\n",
    "![](img/burndown2.png)\n",
    "\n",
    "## Next Steps\n",
    "\n",
    "Continue working on the final report, add more datasets to the deep learning models, and start working on the final presentation."
   ]
  }
 ],
 "metadata": {
  "kernelspec": {
   "display_name": "Python 3 (ipykernel)",
   "language": "python",
   "name": "python3"
  },
  "language_info": {
   "codemirror_mode": {
    "name": "ipython",
    "version": 3
   },
   "file_extension": ".py",
   "mimetype": "text/x-python",
   "name": "python",
   "nbconvert_exporter": "python",
   "pygments_lexer": "ipython3",
   "version": "3.10.12"
  }
 },
 "nbformat": 4,
 "nbformat_minor": 5
}
