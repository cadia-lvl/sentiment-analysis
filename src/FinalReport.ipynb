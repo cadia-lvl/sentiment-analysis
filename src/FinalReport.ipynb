{
 "cells": [
  {
   "cell_type": "markdown",
   "id": "d2644f3e",
   "metadata": {},
   "source": [
    "\n",
    "# Sentiment Analysis on Machine Translated Icelandic corpus\n",
    "\n",
    "Ólafur Aron Jóhannsson\n",
    "Eysteinn Örn\n",
    "Birkir Arndal\n",
    "\n",
    "$${\\color{white}White}$$\n",
    "\n",
    "<p align=\"center\">\n",
    "<img src=\"HR_logo_hringur_transparent.png\" style=\"color:white\">\n",
    "</p>\n",
    "\n",
    "\n",
    "# Contents\n",
    "1. [Abstract](#abstract)\n",
    "2. [Introduction](#introduction)\n",
    "3. [Machine Translations](#machine-translations)\n",
    "4. [Miðeind](#miðeind)\n",
    "5. [Google Translate](#google-translate)\n",
    "6. [Pre Processing](#pre-processing)\n",
    "7. [Featu]\n",
    "\n",
    "## Abstract\n",
    "Machine translating English corpus into low-resource languages is a topic that has been well researched for \n",
    "\n",
    "\n",
    "## Introduction\n",
    "\n",
    "## Machine Translations\n",
    "\n",
    "The reviews were machine translated using Google Translator API and Miðeind Greynir(IS THIS RIGHT?)\n",
    "\n",
    "### Miðeind\n",
    "\n",
    "Some reviews translated using Miðeind could not be directly translated, we encountered issues when reviews had text such as \\*\\*\\* SPOILERS \\*\\*\\* in them and the translation API gave us results that were full of asterisk(*) AND OTHER ISSUES TO NOTE HERE\n",
    "\n",
    "### Google Translate\n",
    "\n",
    "Of all 50.000 reviews all reviews were translated successfully using the Google Translate API, the reason is perhaps it's maturity and how many are using it\n",
    "that it succesfully translated all of the review, albeit it can be said that the quality of the reviews were usually poorer then Miðeind.\n",
    "<img src=\"sentiment.jpg\" width=\"400\" height=\"400\">\n",
    "\n",
    "\n",
    "## Pre-Processing and feature extraction\n",
    "\n",
    "Once translated into Icelandic, we lowercased, tokenized and lemmatized the words \n",
    "\n",
    "\n",
    "\n",
    "\n",
    "\n",
    "# Models\n",
    "\n",
    "# Results\n",
    "\n",
    "# Conclusions\n",
    "\n",
    "\n",
    "\n",
    "\n",
    "\n",
    "\n",
    "\n",
    "\n",
    "\n",
    "\n"
   ]
  },
  {
   "cell_type": "markdown",
   "id": "5fdc46c2",
   "metadata": {},
   "source": []
  },
  {
   "cell_type": "code",
   "execution_count": 5,
   "id": "aea3f6bf",
   "metadata": {},
   "outputs": [
    {
     "data": {
      "text/plain": [
       "'minor spoilers minor spoilers kona verða óléttur ekki eiginmanni sínum hún þróa einhver innri sjá finna manni minnsta kosta það ganga erfiða tíma barma taugaáfalls eiginmaður hafa samband fljúgandi prófessor hjálp reyna komast henni minor spoilers minor spoilers saga hafa mátt vera góður hafa minnsta kosta mátt gera fyrirsjáanlega mynd grípandi koma systir krók myndina vandræða leikur mjög góður kvikmyndataka miklu góður venjulega maður bera venjulega b-liðna bíómynd áhrif eru góður gerast sekúndu myndinni persóna eru virkilega líflegur heimska hjúkrunarfræðing oné senunni eru mjög sannfærandi hlutverkum sínum mér finna góður mynd get mældur henni maður hrifinn geimveru skrímsla-væðinga-mynda saga hafa mátt vera fyrirsjáanlegur'"
      ]
     },
     "execution_count": 5,
     "metadata": {},
     "output_type": "execute_result"
    }
   ],
   "source": [
    "import pandas as pd\n",
    "from process import TextNormalizer\n",
    "\n",
    "data = pd.read_csv(\"../IMDB-Dataset-MideindTranslate.csv\")\n",
    "\n",
    "\n",
    "\n",
    "\n",
    "tn = TextNormalizer()\n",
    "r = \"<-----Minor Spoilers! --> <-Minor Spoilers! --> Kona verður ólétt, en ekki af eiginmanni sínum. Hún þróar með sér „eitthvað“ innra með sér, eða það finnst manni hennar að minnsta kosti. Þau ganga í gegnum erfiða tíma, á meðan hún er á barmi taugaáfalls. Eiginmaðurinn hefur samband við fljúgandi prófessor, og með hans hjálp reyna þau að komast að því hvað er að henni. <---Minor Spoilers! <-> Minor Spoilers! --> Sagan hefði mátt vera heldur betri, eða það hefði að minnsta kosti mátt gera hana minna fyrirsjáanlega, en myndin er grípandi og það kom mér og systur minni krók í gegnum alla myndina án vandræða. Leikurinn er mjög góður, og kvikmyndatakan er miklu betri en venjulega, ef maður ber þetta saman við venjulega b-liðna bíómynd. Áhrifin eru góð, og það er eitthvað að gerast á hverri sekúndu í myndinni. Persónurnar eru virkilega líflegar og fyrir utan heimskan hjúkrunarfræðing í oné senunni eru þær allar mjög sannfærandi í hlutverkum sínum. „Mér fannst þetta góð mynd, og ég get mælt með henni, ef maður er hrifinn af geimveru/skrímslavæðingamyndum! 7/10-Sagan hefði mátt vera heldur minna fyrirsjáanleg.\"\n",
    "\n",
    "tn.process(r)"
   ]
  }
 ],
 "metadata": {
  "kernelspec": {
   "display_name": "Python 3 (ipykernel)",
   "language": "python",
   "name": "python3"
  },
  "language_info": {
   "codemirror_mode": {
    "name": "ipython",
    "version": 3
   },
   "file_extension": ".py",
   "mimetype": "text/x-python",
   "name": "python",
   "nbconvert_exporter": "python",
   "pygments_lexer": "ipython3",
   "version": "3.10.7"
  }
 },
 "nbformat": 4,
 "nbformat_minor": 5
}
