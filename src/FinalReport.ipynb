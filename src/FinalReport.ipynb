{
 "cells": [
  {
   "cell_type": "markdown",
   "id": "d2644f3e",
   "metadata": {},
   "source": [
    "# Sentiment Analysis on Machine Translated Icelandic corpus\n",
    "\n",
    "Ólafur Aron Jóhannsson\n",
    "Eysteinn Örn\n",
    "Birkir Arndal\n",
    "\n",
    "<!-- $${\\color{white}White}$$K -->\n",
    "\n",
    "<!-- <p align=\"center\">\n",
    "<img src=\"HR_logo_hringur_transparent.png\" style=\"color:white\">\n",
    "</p> -->\n",
    "\n",
    "$$y=x^2$$\n",
    "\n",
    "\n",
    "\n",
    "# Contents\n",
    "1. [Abstract](#abstract)\n",
    "2. [Introduction](#introduction)\n",
    "3. [Machine Translations](#machine-translations)\n",
    "4. [Miðeind](#miðeind)\n",
    "5. [Google Translate](#google-translate)\n",
    "6. [Pre Processing](#pre-processing)\n",
    "\n",
    "\n",
    "## Abstract\n",
    "\n",
    "\n",
    "Translating English text into low-resource languages and assessing sentiment is a subject that has received extensive research attention for numerous languages, yet Icelandic remains relatively unexplored in this context. We leverage a range of baseline classifiers and deep learning models to investigate whether sentiment can be effectively conveyed across languages, even when employing machine translation services such as Google Translate and Miðeind machine translation.\n",
    "\n",
    "\n",
    "## Introduction\n",
    "\n",
    "## Machine Translations\n",
    "\n",
    "We employed the Google Translator API, which relies on Google's Neural Machine Translation featuring an LSTM architecture. Additionally, we utilized the Miðeind Vélþýðing API for the purpose of machine-translating the reviews. The Miðeind Vélþýðing API is constructed using the multilingual BART model, which was trained using the Fairseq sequence modeling toolkit within the PyTorch framework.\n",
    "\n",
    "### Miðeind\n",
    "\n",
    "\n",
    "\n",
    "\n",
    "### Google Translate\n",
    "\n",
    "All the reviews were effectively translated using the API, and the only preprocessing step performed on the raw data was the removal of \\<br\\/\\>. The absence of errors during the translation process could be attributed to the API's maturity and extensive user adoption. Nevertheless, it's worth noting that the quality of Icelandic language reviews occasionally exhibited idiosyncrasies.\n",
    "\n",
    "\n",
    "\n",
    "\n",
    "## Pre-Processing and feature extraction\n",
    "\n",
    "Once translated into Icelandic, we lowercased, tokenized and lemmatized the words \n",
    "\n",
    "\n",
    "\n",
    "# Baseline Classifiers\n",
    "\n",
    "We utilized a few baseline classifiers on the dataset, all of which use TF-IDF vectorization, \n",
    "\n",
    "## Naive Bayes\n",
    "\n",
    "\n",
    "\n",
    "\n",
    "## Logistic Regression\n",
    "\n",
    "# Models\n",
    "\n",
    "# Results\n",
    "\n",
    "# Conclusions\n",
    "\n",
    "\n",
    "\n",
    "\n",
    "\n",
    "\n",
    "\n",
    "\n",
    "\n",
    "\n"
   ]
  },
  {
   "cell_type": "markdown",
   "id": "5fdc46c2",
   "metadata": {},
   "source": []
  },
  {
   "cell_type": "code",
   "execution_count": 5,
   "id": "aea3f6bf",
   "metadata": {},
   "outputs": [
    {
     "data": {
      "text/plain": [
       "'minor spoilers minor spoilers kona verða óléttur ekki eiginmanni sínum hún þróa einhver innri sjá finna manni minnsta kosta það ganga erfiða tíma barma taugaáfalls eiginmaður hafa samband fljúgandi prófessor hjálp reyna komast henni minor spoilers minor spoilers saga hafa mátt vera góður hafa minnsta kosta mátt gera fyrirsjáanlega mynd grípandi koma systir krók myndina vandræða leikur mjög góður kvikmyndataka miklu góður venjulega maður bera venjulega b-liðna bíómynd áhrif eru góður gerast sekúndu myndinni persóna eru virkilega líflegur heimska hjúkrunarfræðing oné senunni eru mjög sannfærandi hlutverkum sínum mér finna góður mynd get mældur henni maður hrifinn geimveru skrímsla-væðinga-mynda saga hafa mátt vera fyrirsjáanlegur'"
      ]
     },
     "execution_count": 5,
     "metadata": {},
     "output_type": "execute_result"
    }
   ],
   "source": [
    "import pandas as pd\n",
    "from process import TextNormalizer\n",
    "\n",
    "data = pd.read_csv(\"../IMDB-Dataset-MideindTranslate.csv\")\n",
    "\n",
    "\n",
    "tn = TextNormalizer()\n",
    "r = \"<-----Minor Spoilers! --> <-Minor Spoilers! --> Kona verður ólétt, en ekki af eiginmanni sínum. Hún þróar með sér „eitthvað“ innra með sér, eða það finnst manni hennar að minnsta kosti. Þau ganga í gegnum erfiða tíma, á meðan hún er á barmi taugaáfalls. Eiginmaðurinn hefur samband við fljúgandi prófessor, og með hans hjálp reyna þau að komast að því hvað er að henni. <---Minor Spoilers! <-> Minor Spoilers! --> Sagan hefði mátt vera heldur betri, eða það hefði að minnsta kosti mátt gera hana minna fyrirsjáanlega, en myndin er grípandi og það kom mér og systur minni krók í gegnum alla myndina án vandræða. Leikurinn er mjög góður, og kvikmyndatakan er miklu betri en venjulega, ef maður ber þetta saman við venjulega b-liðna bíómynd. Áhrifin eru góð, og það er eitthvað að gerast á hverri sekúndu í myndinni. Persónurnar eru virkilega líflegar og fyrir utan heimskan hjúkrunarfræðing í oné senunni eru þær allar mjög sannfærandi í hlutverkum sínum. „Mér fannst þetta góð mynd, og ég get mælt með henni, ef maður er hrifinn af geimveru/skrímslavæðingamyndum! 7/10-Sagan hefði mátt vera heldur minna fyrirsjáanleg.\"\n",
    "\n",
    "tn.process(r)"
   ]
  }
 ],
 "metadata": {
  "kernelspec": {
   "display_name": "Python 3 (ipykernel)",
   "language": "python",
   "name": "python3"
  },
  "language_info": {
   "codemirror_mode": {
    "name": "ipython",
    "version": 3
   },
   "file_extension": ".py",
   "mimetype": "text/x-python",
   "name": "python",
   "nbconvert_exporter": "python",
   "pygments_lexer": "ipython3",
   "version": "3.10.7"
  }
 },
 "nbformat": 4,
 "nbformat_minor": 5
}
