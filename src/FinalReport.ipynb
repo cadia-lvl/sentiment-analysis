{
 "cells": [
  {
   "cell_type": "markdown",
   "id": "d2644f3e",
   "metadata": {},
   "source": [
    "# Rannsókn á Viðhorfsgreiningu á vélþýddum Íslenskum texta\n",
    "\n",
    "Í þessari rannsókn var þróaður hugbúnaður sem greinir viðhorf(e. sentiment) á íslenskum texta með beitingu gervigreindar. Markmið rannsóknar er að greina áreiðanleika vélþýðingar frá Google og frá Miðeind, meta og rannsaka hvort að vélþýðing hafi áhrif á gæði greiningu viðhorfs og \n",
    "\n",
    "\n",
    "\n",
    "\n",
    "\n"
   ]
  },
  {
   "cell_type": "code",
   "execution_count": 47,
   "id": "aea3f6bf",
   "metadata": {},
   "outputs": [],
   "source": []
  }
 ],
 "metadata": {
  "kernelspec": {
   "display_name": "Python 3 (ipykernel)",
   "language": "python",
   "name": "python3"
  },
  "language_info": {
   "codemirror_mode": {
    "name": "ipython",
    "version": 3
   },
   "file_extension": ".py",
   "mimetype": "text/x-python",
   "name": "python",
   "nbconvert_exporter": "python",
   "pygments_lexer": "ipython3",
   "version": "3.10.7"
  }
 },
 "nbformat": 4,
 "nbformat_minor": 5
}
