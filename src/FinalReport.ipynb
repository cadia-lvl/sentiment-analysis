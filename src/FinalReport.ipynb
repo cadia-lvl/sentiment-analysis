{
 "cells": [
  {
   "cell_type": "markdown",
   "id": "d2644f3e",
   "metadata": {},
   "source": [
    "# Sentiment Analysis on Machine Translated Icelandic corpus\n",
    "\n",
    "\n",
    "\n",
    "\n",
    "## Introduction\n",
    "Náð var í gagnasafn af gagnrýnum á ensku frá IMDB, gagnasafnið var 50 þúsund gagnrýnir merkt viðhorfi, annað hvort jákvætt eða neikvætt. Allur texti var \n",
    "\n",
    "## Vélþýðing\n",
    "\n",
    "### Google Translate\n",
    "\n",
    "\n",
    "### Miðeind\n",
    "\n",
    "\n",
    "\n",
    "\n",
    "\n",
    "\n",
    "\n",
    "\n",
    "\n"
   ]
  },
  {
   "cell_type": "code",
   "execution_count": 3,
   "id": "aea3f6bf",
   "metadata": {},
   "outputs": [
    {
     "data": {
      "text/plain": [
       "''"
      ]
     },
     "execution_count": 3,
     "metadata": {},
     "output_type": "execute_result"
    }
   ],
   "source": [
    "import pandas as pd\n",
    "from process import TextNormalizer\n",
    "\n",
    "data = pd.read_csv(\"../IMDB-Dataset-MideindTranslate.csv\")\n",
    "\n",
    "\n",
    "\n",
    "\n",
    "tn = TextNormalizer()\n",
    "r = \"\\\"Slaughter High\\\" er kannski vanmetnasta slátrunarflikk upp úr 1980. Hún er ein af fáum myndum í kvikmyndaheiminum sem er átakanleg um allan heim. Að því sögðu styðst hún líka mikið við stöðluðu slúðurformúluna: Hópur ungra manna og kvenna verður drepinn einn af öðrum af óhugnanlegum tilþrifum fram að lokasýningu. Ástæðan fyrir því að \"\"Slaughter High\"\" stendur framar flestum bíómyndum í sinni sviðsmynd er sú að hún fer meira fram úr hófi. Morðinginn hefur góða ástæðu til að vera fúll út í fyrrverandi bekkjarfélaga sína. Þeir fengu hann til að deyja einn af öðrum þar sem hann stóð nakinn í búningsklefa stelpu, sturtaði sig með spjóti og til að toppa það reif hann tilraunastofuna sína til að afmynda hann. Fórnarlömbin í þessari mynd eru álíka ólíkleg og þið. Þegar þau koma saman mörgum árum síðar á skólamóti sem Marteinn setti sjálfur á svið... verður manni ljóst að þau hafa ekki þroskast svona mikið. Þau eru hópur af siðblindum mönnum. Það er skrítið að hugsa til þess af hverju þau vildu ekki velta því fyrir sér af hverju þau voru þau einu sem mættu á mótið sem er annars haldið í skóla sem hefur síðan verið í niðurníðslu. Og þeim sem finnst það sniðugt að drekka bjór og áfengi í yfirgefnum byggingum í herbergi sem er með gömlu skápana sína jafnt sem sýningargripi. Það er margt sem áhorfandinn þarf að hafa trú á til að njóta myndarinnar. Myndin endar með litlum sem engum skilningi. Og handritshöfundarnir skilja ekki hvernig kvikmyndin Fool Days kemur út. Kvikmyndin fullyrðir að kvikmyndin virki ekki lengur eftir hádegi. Kvikmyndin er eitt besta dæmið um það, þrátt fyrir galla hennar. Það er erfitt að skilja af hverju hún er búin að finna sínar eigin útgáfur af DVD-diskum þegar hún er svo gölluð. Það er erfitt að skilja af hverju hún er búin að slátra mörgum öðrum útgáfum af DVD-diskum.\"\n",
    "\n",
    "tn.process(r)"
   ]
  }
 ],
 "metadata": {
  "kernelspec": {
   "display_name": "Python 3 (ipykernel)",
   "language": "python",
   "name": "python3"
  },
  "language_info": {
   "codemirror_mode": {
    "name": "ipython",
    "version": 3
   },
   "file_extension": ".py",
   "mimetype": "text/x-python",
   "name": "python",
   "nbconvert_exporter": "python",
   "pygments_lexer": "ipython3",
   "version": "3.10.7"
  }
 },
 "nbformat": 4,
 "nbformat_minor": 5
}
