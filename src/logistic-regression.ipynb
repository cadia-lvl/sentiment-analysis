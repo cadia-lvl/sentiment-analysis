{
 "cells": [
  {
   "cell_type": "code",
   "execution_count": 2,
   "metadata": {},
   "outputs": [],
   "source": [
    "import numpy as np\n",
    "import pandas as pd\n",
    "from sklearn.linear_model import LogisticRegression\n",
    "from sklearn.metrics import confusion_matrix\n",
    "from sklearn.model_selection import train_test_split\n",
    "from sklearn.metrics import accuracy_score\n",
    "\n",
    "import matplotlib.pyplot as plt\n",
    "from reynir import Greynir\n",
    "import re\n",
    "\n",
    "%matplotlib inline"
   ]
  },
  {
   "cell_type": "code",
   "execution_count": 29,
   "metadata": {},
   "outputs": [
    {
     "data": {
      "text/html": [
       "<div>\n",
       "<style scoped>\n",
       "    .dataframe tbody tr th:only-of-type {\n",
       "        vertical-align: middle;\n",
       "    }\n",
       "\n",
       "    .dataframe tbody tr th {\n",
       "        vertical-align: top;\n",
       "    }\n",
       "\n",
       "    .dataframe thead th {\n",
       "        text-align: right;\n",
       "    }\n",
       "</style>\n",
       "<table border=\"1\" class=\"dataframe\">\n",
       "  <thead>\n",
       "    <tr style=\"text-align: right;\">\n",
       "      <th></th>\n",
       "      <th>review</th>\n",
       "      <th>sentiment</th>\n",
       "    </tr>\n",
       "  </thead>\n",
       "  <tbody>\n",
       "    <tr>\n",
       "      <th>0</th>\n",
       "      <td>Hvattur af jákvæðum ummælum um þessa mynd hérn...</td>\n",
       "      <td>negative</td>\n",
       "    </tr>\n",
       "    <tr>\n",
       "      <th>1</th>\n",
       "      <td>Einn hinna gagnrýnenda hefur nefnt að eftir að...</td>\n",
       "      <td>positive</td>\n",
       "    </tr>\n",
       "    <tr>\n",
       "      <th>2</th>\n",
       "      <td>Yndisleg lítil framleiðsla. Kvikmyndatæknin er...</td>\n",
       "      <td>positive</td>\n",
       "    </tr>\n",
       "    <tr>\n",
       "      <th>3</th>\n",
       "      <td>\"Love in the Time of Money\" eftir Petter Matte...</td>\n",
       "      <td>positive</td>\n",
       "    </tr>\n",
       "    <tr>\n",
       "      <th>4</th>\n",
       "      <td>Í grundvallaratriðum er fjölskylda þar sem lít...</td>\n",
       "      <td>negative</td>\n",
       "    </tr>\n",
       "  </tbody>\n",
       "</table>\n",
       "</div>"
      ],
      "text/plain": [
       "                                              review sentiment\n",
       "0  Hvattur af jákvæðum ummælum um þessa mynd hérn...  negative\n",
       "1  Einn hinna gagnrýnenda hefur nefnt að eftir að...  positive\n",
       "2  Yndisleg lítil framleiðsla. Kvikmyndatæknin er...  positive\n",
       "3  \"Love in the Time of Money\" eftir Petter Matte...  positive\n",
       "4  Í grundvallaratriðum er fjölskylda þar sem lít...  negative"
      ]
     },
     "execution_count": 29,
     "metadata": {},
     "output_type": "execute_result"
    }
   ],
   "source": [
    "imdb_google = pd.read_csv(\"../IMDB-Dataset-GoogleTranslate.csv\")\n",
    "imdb_google.head()"
   ]
  },
  {
   "cell_type": "code",
   "execution_count": 32,
   "metadata": {},
   "outputs": [
    {
     "data": {
      "image/png": "[encoded data removed]",
      "text/plain": [
       "<Figure size 640x480 with 1 Axes>"
      ]
     },
     "metadata": {},
     "output_type": "display_data"
    }
   ],
   "source": [
    "imdb_google.sentiment.value_counts().plot(\n",
    "    kind=\"pie\", autopct=\"%1.0f%%\", colors=[\"red\", \"green\"]\n",
    ");"
   ]
  },
  {
   "cell_type": "code",
   "execution_count": 25,
   "metadata": {},
   "outputs": [
    {
     "data": {
      "text/html": [
       "<div>\n",
       "<style scoped>\n",
       "    .dataframe tbody tr th:only-of-type {\n",
       "        vertical-align: middle;\n",
       "    }\n",
       "\n",
       "    .dataframe tbody tr th {\n",
       "        vertical-align: top;\n",
       "    }\n",
       "\n",
       "    .dataframe thead th {\n",
       "        text-align: right;\n",
       "    }\n",
       "</style>\n",
       "<table border=\"1\" class=\"dataframe\">\n",
       "  <thead>\n",
       "    <tr style=\"text-align: right;\">\n",
       "      <th></th>\n",
       "      <th>review</th>\n",
       "      <th>sentiment</th>\n",
       "    </tr>\n",
       "  </thead>\n",
       "  <tbody>\n",
       "    <tr>\n",
       "      <th>0</th>\n",
       "      <td>Einn af hinum rýnunum hefur nefnt að eftir að ...</td>\n",
       "      <td>positive</td>\n",
       "    </tr>\n",
       "    <tr>\n",
       "      <th>1</th>\n",
       "      <td>Dásamleg lítil framleiðsla. Kvikmyndatæknin er...</td>\n",
       "      <td>positive</td>\n",
       "    </tr>\n",
       "    <tr>\n",
       "      <th>2</th>\n",
       "      <td>Mér fannst þetta dásamleg leið til að eyða tím...</td>\n",
       "      <td>positive</td>\n",
       "    </tr>\n",
       "    <tr>\n",
       "      <th>3</th>\n",
       "      <td>Eiginlega er fjölskylda þar sem lítill strákur...</td>\n",
       "      <td>negative</td>\n",
       "    </tr>\n",
       "    <tr>\n",
       "      <th>4</th>\n",
       "      <td>„Ást á tímum peninga“ eftir Petter Mattei er s...</td>\n",
       "      <td>positive</td>\n",
       "    </tr>\n",
       "  </tbody>\n",
       "</table>\n",
       "</div>"
      ],
      "text/plain": [
       "                                              review sentiment\n",
       "0  Einn af hinum rýnunum hefur nefnt að eftir að ...  positive\n",
       "1  Dásamleg lítil framleiðsla. Kvikmyndatæknin er...  positive\n",
       "2  Mér fannst þetta dásamleg leið til að eyða tím...  positive\n",
       "3  Eiginlega er fjölskylda þar sem lítill strákur...  negative\n",
       "4  „Ást á tímum peninga“ eftir Petter Mattei er s...  positive"
      ]
     },
     "execution_count": 25,
     "metadata": {},
     "output_type": "execute_result"
    }
   ],
   "source": [
    "imdb_mideind = pd.read_csv(\"../IMDB-Dataset-MideindTranslate.csv\")\n",
    "imdb_mideind.head()"
   ]
  },
  {
   "cell_type": "code",
   "execution_count": 33,
   "metadata": {},
   "outputs": [
    {
     "data": {
      "text/plain": [
       "<Axes: ylabel='sentiment'>"
      ]
     },
     "execution_count": 33,
     "metadata": {},
     "output_type": "execute_result"
    },
    {
     "data": {
      "image/png": "[encoded data removed]",
      "text/plain": [
       "<Figure size 640x480 with 1 Axes>"
      ]
     },
     "metadata": {},
     "output_type": "display_data"
    }
   ],
   "source": [
    "imdb_mideind.sentiment.value_counts().plot(\n",
    "    kind=\"pie\", autopct=\"%1.0f%%\", colors=[\"red\", \"green\"]\n",
    ")"
   ]
  },
  {
   "cell_type": "code",
   "execution_count": 34,
   "metadata": {},
   "outputs": [
    {
     "data": {
      "text/plain": [
       "review       48709\n",
       "sentiment    48709\n",
       "dtype: int64"
      ]
     },
     "execution_count": 34,
     "metadata": {},
     "output_type": "execute_result"
    }
   ],
   "source": [
    "imdb_mideind.count()"
   ]
  },
  {
   "cell_type": "code",
   "execution_count": 15,
   "metadata": {},
   "outputs": [],
   "source": [
    "def process_review(review):\n",
    "    return review\n",
    "    # with open(file_path, 'r') as f:\n",
    "    #     words_to_remove = set(f.read().splitlines())\n",
    "\n",
    "    # review = review.lower()\n",
    "    # review = re.sub(r'\\d+', '', review) # remove numbers from review text\n",
    "    # review = re.sub(r'[^\\w\\s]', '', review) # remove punctuation from review text\n",
    "    # review = review.strip() # remove leading and trailing spaces\n",
    "    # review_words = []\n",
    "    # for word in review.split():\n",
    "    #     if word not in words_to_remove:\n",
    "    #         review_words.append(word)\n",
    "\n",
    "    # return ' '.join(review_words)\n",
    "\n",
    "    # g = Greynir()\n",
    "    # processed_review = ''\n",
    "    # for word in review.split():\n",
    "    #     if word not in words_to_remove:\n",
    "    #         lemmas = g.parse_single(word).lemmas\n",
    "    #         if lemmas:\n",
    "    #             processed_review += lemmas[0] + ' '\n",
    "    #         else:\n",
    "    #             processed_review += word + ' '\n",
    "\n",
    "    # return review"
   ]
  },
  {
   "cell_type": "code",
   "execution_count": 59,
   "metadata": {},
   "outputs": [],
   "source": [
    "def build_freqs(reviews, sentiments):\n",
    "    freqs = {}\n",
    "    for review, sentiment in zip(reviews, sentiments):\n",
    "        for word in process_review(review).split():\n",
    "            pair = (word, sentiment)\n",
    "            freqs[pair] = freqs.get(pair, 0) + 1\n",
    "    return freqs"
   ]
  },
  {
   "cell_type": "code",
   "execution_count": 5,
   "metadata": {},
   "outputs": [],
   "source": [
    "def extract_features(review, freqs):\n",
    "    x = np.zeros((1, 3))\n",
    "    x[0, 0] = 1\n",
    "    for word in set(review.split()):\n",
    "        x[0, 1] += freqs.get((word, 1), 0)\n",
    "        x[0, 2] += freqs.get((word, 0), 0)\n",
    "    return x"
   ]
  },
  {
   "cell_type": "code",
   "execution_count": 52,
   "metadata": {},
   "outputs": [
    {
     "name": "stdout",
     "output_type": "stream",
     "text": [
      "Accuracy: 0.7027\n"
     ]
    }
   ],
   "source": [
    "reviews = imdb_google[\"review\"].values\n",
    "sentiments = imdb_google[\"sentiment\"].values\n",
    "sentiments = np.where(sentiments == \"positive\", 1, 0)\n",
    "file_path = \"../all_stop_words.txt\"\n",
    "\n",
    "reviews\n",
    "freqs = build_freqs(reviews, sentiments)\n",
    "\n",
    "X = np.zeros((len(reviews), 3))\n",
    "\n",
    "for i in range(len(reviews)):\n",
    "    X[i, :] = extract_features(reviews[i], freqs)\n",
    "\n",
    "X_train, X_test, y_train, y_test = train_test_split(\n",
    "    X, sentiments, test_size=0.2, random_state=42\n",
    ")\n",
    "\n",
    "model = LogisticRegression()\n",
    "model.fit(X_train, y_train)\n",
    "y_pred = model.predict(X_test)\n",
    "\n",
    "print(\"Accuracy: {}\".format(accuracy_score(y_test, y_pred)))"
   ]
  },
  {
   "cell_type": "code",
   "execution_count": 53,
   "metadata": {},
   "outputs": [
    {
     "name": "stdout",
     "output_type": "stream",
     "text": [
      "[[3471 1507]\n",
      " [1466 3556]]\n",
      "              precision    recall  f1-score   support\n",
      "\n",
      "           0       0.70      0.70      0.70      4978\n",
      "           1       0.70      0.71      0.71      5022\n",
      "\n",
      "    accuracy                           0.70     10000\n",
      "   macro avg       0.70      0.70      0.70     10000\n",
      "weighted avg       0.70      0.70      0.70     10000\n",
      "\n"
     ]
    }
   ],
   "source": [
    "cfm = confusion_matrix(y_test, y_pred)\n",
    "print(cfm)\n",
    "from sklearn.metrics import classification_report\n",
    "\n",
    "print(classification_report(y_test, y_pred))"
   ]
  },
  {
   "cell_type": "code",
   "execution_count": 54,
   "metadata": {},
   "outputs": [
    {
     "name": "stdout",
     "output_type": "stream",
     "text": [
      "Accuracy: 0.6832272633956067\n"
     ]
    }
   ],
   "source": [
    "reviews = imdb_mideind[\"review\"].values\n",
    "sentiments = imdb_mideind[\"sentiment\"].values\n",
    "sentiments = np.where(sentiments == \"positive\", 1, 0)\n",
    "file_path = \"../all_stop_words.txt\"\n",
    "\n",
    "reviews\n",
    "freqs = build_freqs(reviews, sentiments)\n",
    "\n",
    "X = np.zeros((len(reviews), 3))\n",
    "\n",
    "for i in range(len(reviews)):\n",
    "    X[i, :] = extract_features(reviews[i], freqs)\n",
    "\n",
    "X_train, X_test, y_train, y_test = train_test_split(\n",
    "    X, sentiments, test_size=0.2, random_state=42\n",
    ")\n",
    "\n",
    "model = LogisticRegression()\n",
    "model.fit(X_train, y_train)\n",
    "y_pred = model.predict(X_test)\n",
    "\n",
    "print(\"Accuracy: {}\".format(accuracy_score(y_test, y_pred)))"
   ]
  },
  {
   "cell_type": "code",
   "execution_count": 55,
   "metadata": {},
   "outputs": [
    {
     "name": "stdout",
     "output_type": "stream",
     "text": [
      "[[3001 1819]\n",
      " [1267 3655]]\n",
      "              precision    recall  f1-score   support\n",
      "\n",
      "           0       0.70      0.62      0.66      4820\n",
      "           1       0.67      0.74      0.70      4922\n",
      "\n",
      "    accuracy                           0.68      9742\n",
      "   macro avg       0.69      0.68      0.68      9742\n",
      "weighted avg       0.69      0.68      0.68      9742\n",
      "\n"
     ]
    }
   ],
   "source": [
    "cfm = confusion_matrix(y_test, y_pred)\n",
    "print(cfm)\n",
    "print(classification_report(y_test, y_pred))"
   ]
  },
  {
   "cell_type": "code",
   "execution_count": 57,
   "metadata": {},
   "outputs": [],
   "source": [
    "from process import TextNormalizer\n",
    "\n",
    "tn = TextNormalizer()\n",
    "\n",
    "\n",
    "def process_review(review):\n",
    "    return tn.process(review)"
   ]
  },
  {
   "cell_type": "code",
   "execution_count": 60,
   "metadata": {},
   "outputs": [
    {
     "name": "stdout",
     "output_type": "stream",
     "text": [
      "Accuracy: 0.6947\n"
     ]
    }
   ],
   "source": [
    "reviews = imdb_google[\"review\"].values\n",
    "sentiments = imdb_google[\"sentiment\"].values\n",
    "sentiments = np.where(sentiments == \"positive\", 1, 0)\n",
    "file_path = \"../all_stop_words.txt\"\n",
    "\n",
    "reviews\n",
    "freqs = build_freqs(reviews, sentiments)\n",
    "\n",
    "X = np.zeros((len(reviews), 3))\n",
    "\n",
    "for i in range(len(reviews)):\n",
    "    X[i, :] = extract_features(reviews[i], freqs)\n",
    "\n",
    "X_train, X_test, y_train, y_test = train_test_split(\n",
    "    X, sentiments, test_size=0.2, random_state=42\n",
    ")\n",
    "\n",
    "model = LogisticRegression()\n",
    "model.fit(X_train, y_train)\n",
    "y_pred = model.predict(X_test)\n",
    "\n",
    "print(\"Accuracy: {}\".format(accuracy_score(y_test, y_pred)))"
   ]
  },
  {
   "cell_type": "code",
   "execution_count": 61,
   "metadata": {},
   "outputs": [
    {
     "name": "stdout",
     "output_type": "stream",
     "text": [
      "[[3684 1294]\n",
      " [1759 3263]]\n",
      "              precision    recall  f1-score   support\n",
      "\n",
      "           0       0.68      0.74      0.71      4978\n",
      "           1       0.72      0.65      0.68      5022\n",
      "\n",
      "    accuracy                           0.69     10000\n",
      "   macro avg       0.70      0.69      0.69     10000\n",
      "weighted avg       0.70      0.69      0.69     10000\n",
      "\n"
     ]
    }
   ],
   "source": [
    "cfm = confusion_matrix(y_test, y_pred)\n",
    "print(cfm)\n",
    "from sklearn.metrics import classification_report\n",
    "\n",
    "print(classification_report(y_test, y_pred))"
   ]
  },
  {
   "cell_type": "code",
   "execution_count": null,
   "metadata": {},
   "outputs": [
    {
     "name": "stdout",
     "output_type": "stream",
     "text": [
      "Accuracy: 0.6832272633956067\n"
     ]
    }
   ],
   "source": [
    "reviews = imdb_mideind[\"review\"].values\n",
    "sentiments = imdb_mideind[\"sentiment\"].values\n",
    "sentiments = np.where(sentiments == \"positive\", 1, 0)\n",
    "file_path = \"../all_stop_words.txt\"\n",
    "\n",
    "reviews\n",
    "freqs = build_freqs(reviews, sentiments)\n",
    "\n",
    "X = np.zeros((len(reviews), 3))\n",
    "\n",
    "for i in range(len(reviews)):\n",
    "    X[i, :] = extract_features(reviews[i], freqs)\n",
    "\n",
    "X_train, X_test, y_train, y_test = train_test_split(\n",
    "    X, sentiments, test_size=0.2, random_state=42\n",
    ")\n",
    "\n",
    "model = LogisticRegression()\n",
    "model.fit(X_train, y_train)\n",
    "y_pred = model.predict(X_test)\n",
    "\n",
    "print(\"Accuracy: {}\".format(accuracy_score(y_test, y_pred)))"
   ]
  },
  {
   "cell_type": "code",
   "execution_count": null,
   "metadata": {},
   "outputs": [
    {
     "name": "stdout",
     "output_type": "stream",
     "text": [
      "[[3001 1819]\n",
      " [1267 3655]]\n",
      "              precision    recall  f1-score   support\n",
      "\n",
      "           0       0.70      0.62      0.66      4820\n",
      "           1       0.67      0.74      0.70      4922\n",
      "\n",
      "    accuracy                           0.68      9742\n",
      "   macro avg       0.69      0.68      0.68      9742\n",
      "weighted avg       0.69      0.68      0.68      9742\n",
      "\n"
     ]
    }
   ],
   "source": [
    "cfm = confusion_matrix(y_test, y_pred)\n",
    "print(cfm)\n",
    "print(classification_report(y_test, y_pred))"
   ]
  },
  {
   "cell_type": "code",
   "execution_count": 40,
   "metadata": {},
   "outputs": [
    {
     "name": "stdout",
     "output_type": "stream",
     "text": [
      "Review: geggjuð mynd\n",
      "Sentiment: negative\n"
     ]
    }
   ],
   "source": [
    "# test\n",
    "my_review = \"geggjuð mynd\"\n",
    "x = extract_features(my_review, freqs)\n",
    "y_pred = model.predict(x)\n",
    "print(\"Review: {}\".format(my_review))\n",
    "print(\"Sentiment: {}\".format(\"positive\" if y_pred[0] == 1 else \"negative\"))"
   ]
  },
  {
   "cell_type": "code",
   "execution_count": 41,
   "metadata": {},
   "outputs": [
    {
     "name": "stdout",
     "output_type": "stream",
     "text": [
      "Review: ömurleg mynd\n",
      "Sentiment: negative\n"
     ]
    }
   ],
   "source": [
    "# test\n",
    "my_review = \"ömurleg mynd\"\n",
    "x = extract_features(my_review, freqs)\n",
    "y_pred = model.predict(x)\n",
    "print(\"Review: {}\".format(my_review))\n",
    "print(\"Sentiment: {}\".format(\"positive\" if y_pred[0] == 1 else \"negative\"))"
   ]
  }
 ],
 "metadata": {
  "kernelspec": {
   "display_name": "Python 3",
   "language": "python",
   "name": "python3"
  },
  "language_info": {
   "codemirror_mode": {
    "name": "ipython",
    "version": 3
   },
   "file_extension": ".py",
   "mimetype": "text/x-python",
   "name": "python",
   "nbconvert_exporter": "python",
   "pygments_lexer": "ipython3",
   "version": "3.10.6"
  },
  "orig_nbformat": 4
 },
 "nbformat": 4,
 "nbformat_minor": 2
}
