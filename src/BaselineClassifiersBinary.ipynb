{
 "cells": [
  {
   "cell_type": "code",
   "execution_count": 1,
   "id": "3ef9160a",
   "metadata": {},
   "outputs": [
    {
     "name": "stderr",
     "output_type": "stream",
     "text": [
      "/home/olafurj/dev/Lokaverkefni/sentiment-analysis/.env/lib/python3.10/site-packages/sklearn/svm/_classes.py:32: FutureWarning: The default value of `dual` will change from `True` to `'auto'` in 1.5. Set the value of `dual` explicitly to suppress the warning.\n",
      "  warnings.warn(\n"
     ]
    },
    {
     "name": "stdout",
     "output_type": "stream",
     "text": [
      "              precision    recall  f1-score   support\n",
      "\n",
      "    negative     0.8446    0.8816    0.8627      4975\n",
      "    positive     0.8775    0.8394    0.8580      5025\n",
      "\n",
      "    accuracy                         0.8604     10000\n",
      "   macro avg     0.8610    0.8605    0.8604     10000\n",
      "weighted avg     0.8611    0.8604    0.8603     10000\n",
      "\n",
      "              precision    recall  f1-score   support\n",
      "\n",
      "    negative     0.8953    0.8852    0.8902      4975\n",
      "    positive     0.8876    0.8975    0.8925      5025\n",
      "\n",
      "    accuracy                         0.8914     10000\n",
      "   macro avg     0.8915    0.8914    0.8914     10000\n",
      "weighted avg     0.8914    0.8914    0.8914     10000\n",
      "\n",
      "              precision    recall  f1-score   support\n",
      "\n",
      "    negative     0.8943    0.8754    0.8847      4975\n",
      "    positive     0.8791    0.8975    0.8882      5025\n",
      "\n",
      "    accuracy                         0.8865     10000\n",
      "   macro avg     0.8867    0.8864    0.8865     10000\n",
      "weighted avg     0.8867    0.8865    0.8865     10000\n",
      "\n"
     ]
    }
   ],
   "source": [
    "import pandas as pd\n",
    "import numpy as np\n",
    "from sklearn.feature_extraction.text import TfidfVectorizer\n",
    "from sklearn.naive_bayes import MultinomialNB\n",
    "from sklearn.linear_model import LogisticRegression\n",
    "from sklearn.metrics import (\n",
    "    accuracy_score,\n",
    "    f1_score,\n",
    "    precision_score,\n",
    "    recall_score,\n",
    "    classification_report,\n",
    ")\n",
    "from sklearn.model_selection import cross_val_score\n",
    "from sklearn.svm import LinearSVC\n",
    "from sklearn.pipeline import Pipeline\n",
    "import matplotlib.pyplot as plt\n",
    "from sklearn.model_selection import train_test_split\n",
    "from sklearn.metrics import classification_report\n",
    "\n",
    "data = pd.read_csv(\"../IMDB-Dataset-GoogleTranslate-Processed.csv\")\n",
    "review, sentiment = data[\"review\"], data[\"sentiment\"]\n",
    "x_train, x_test, y_train, y_test = train_test_split(review, sentiment, test_size=0.2, random_state=0)\n",
    "pipeline_1 = Pipeline(\n",
    "    [\n",
    "        (\"vect\", TfidfVectorizer()),\n",
    "        (\"clf\", MultinomialNB(fit_prior=True, class_prior=None)),\n",
    "    ]\n",
    ")\n",
    "pipeline_2 = Pipeline(\n",
    "    [\n",
    "        (\"vect\", TfidfVectorizer()),\n",
    "        (\"clf\", LinearSVC()),\n",
    "    ]\n",
    ")\n",
    "pipeline_3 = Pipeline(\n",
    "    [\n",
    "        (\"vect\", TfidfVectorizer()),\n",
    "        (\"clf\", LogisticRegression(solver='sag')),\n",
    "    ]\n",
    ")\n",
    "\n",
    "pipeline_1.fit(x_train, y_train)\n",
    "pipeline_2.fit(x_train, y_train)\n",
    "pipeline_3.fit(x_train, y_train)\n",
    "\n",
    "predict_1 = pipeline_1.predict(x_test)\n",
    "predict_2 = pipeline_2.predict(x_test)\n",
    "predict_3 = pipeline_3.predict(x_test)\n",
    "\n",
    "print(classification_report(y_test, predict_1, digits=4))\n",
    "print(classification_report(y_test, predict_2, digits=4))\n",
    "print(classification_report(y_test, predict_3, digits=4))\n",
    "\n"
   ]
  }
 ],
 "metadata": {
  "kernelspec": {
   "display_name": "Python 3 (ipykernel)",
   "language": "python",
   "name": "python3"
  },
  "language_info": {
   "codemirror_mode": {
    "name": "ipython",
    "version": 3
   },
   "file_extension": ".py",
   "mimetype": "text/x-python",
   "name": "python",
   "nbconvert_exporter": "python",
   "pygments_lexer": "ipython3",
   "version": "3.10.7"
  }
 },
 "nbformat": 4,
 "nbformat_minor": 5
}
