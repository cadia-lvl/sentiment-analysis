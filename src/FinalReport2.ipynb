{
 "cells": [
  {
   "cell_type": "markdown",
   "metadata": {},
   "source": [
    "\\begin{center}\n",
    "\\includegraphics[scale=0.5]{HR_logo_hringur_transparent.png}\n",
    "\n",
    "\\LARGE{BSc Final Project} \\\\\n",
    "\\Large{Department of Computer Science}\n",
    "\n",
    "\\hfill\n",
    "\n",
    "{\\bfseries\\Huge Sentiment Analysis on Icelandic text using Neural Networks and Machine Learning Classifiers}\n",
    "\n",
    "\\hfill\n",
    "\n",
    "\\textit{Ólafur Aron Jóhannsson} \\\\\n",
    "olafuraj21@ru.is\n",
    "\n",
    "\\textit{Birkir Arndal} \\\\\n",
    "birkir@ru.is\n",
    "\n",
    "\\textit{Eysteinn Örn} \\\\\n",
    "eysteinn@ru.is\n",
    "\n",
    "\\hfill\n",
    "\n",
    "\n",
    "\\textit{Supervised by} Stefán Ólafsson and Hrafn Loftsson\n",
    "\n",
    "\\hfill\n",
    "\n",
    "\n",
    "2 November, 2023\n",
    "\n",
    "\\end{center}\n",
    "\n",
    "\\hfill\n",
    "\n",
    "\\hfill"
   ]
  },
  {
   "cell_type": "markdown",
   "metadata": {},
   "source": [
    "\\begin{center}\n",
    "\n",
    "{\\bfseries Abstract}\n",
    "\n",
    "\\end{center}\n",
    "\n",
    "In this research paper, we evaluate several machine-learning classifiers and Transformer-based language models for Icelandic sentiment analysis. We machine translated English movie reviews from the IMDb dataset to Icelandic and trained three types of classifiers, Support Vector Machines, Logistic Regression and Naive Bayes. We also performed downstream training on three pre-trained transformer-based models RoBERTa, IceBERT and Electra on the original English text and the translated text to evaluate their performance. We found that the Transformer-based models performed better than the machine-learning classifiers on both datasets. The best performing Transformer-based model was the Electra model trained on the Miðeind translated text, which achieved an F1-score of 93%~ on the test set. The best performing machine-learning classifier was the Support Vector Machine, which achieved an accuracy of 89%~ on the test set.\n"
   ]
  },
  {
   "cell_type": "markdown",
   "metadata": {},
   "source": [
    "# **Introduction**\n",
    "\n",
    "Sentiment Analysis is the process of determining the sentiment of a text. The sentiment of a text can be positive, negative or neutral. Sentiment analysis is a subfield of Natural Language Processing (NLP) and is used in many applications such as social media monitoring, customer service, brand monitoring, and market research. Sentiment analysis is also used in the financial sector to predict stock prices and in politics to predict election results. \n",
    "\n",
    "\n",
    "\n"
   ]
  },
  {
   "cell_type": "markdown",
   "metadata": {},
   "source": [
    "# **Background and Related Work**"
   ]
  },
  {
   "cell_type": "markdown",
   "metadata": {},
   "source": [
    "# **Methods**"
   ]
  },
  {
   "cell_type": "markdown",
   "metadata": {},
   "source": [
    "# Results and Analysis"
   ]
  }
 ],
 "metadata": {
  "kernelspec": {
   "display_name": "Python 3",
   "language": "python",
   "name": "python3"
  },
  "language_info": {
   "name": "python",
   "version": "3.10.12"
  },
  "orig_nbformat": 4
 },
 "nbformat": 4,
 "nbformat_minor": 2
}
